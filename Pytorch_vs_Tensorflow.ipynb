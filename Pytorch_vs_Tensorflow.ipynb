{
  "nbformat": 4,
  "nbformat_minor": 0,
  "metadata": {
    "colab": {
      "name": "Pytorch vs Tensorflow.ipynb",
      "version": "0.3.2",
      "provenance": [],
      "collapsed_sections": [],
      "include_colab_link": true
    },
    "kernelspec": {
      "name": "python3",
      "display_name": "Python 3"
    },
    "accelerator": "GPU"
  },
  "cells": [
    {
      "cell_type": "markdown",
      "metadata": {
        "id": "view-in-github",
        "colab_type": "text"
      },
      "source": [
        "<a href=\"https://colab.research.google.com/github/ZohebAbai/DeepLearning-Projects/blob/master/Pytorch_vs_Tensorflow.ipynb\" target=\"_parent\"><img src=\"https://colab.research.google.com/assets/colab-badge.svg\" alt=\"Open In Colab\"/></a>"
      ]
    },
    {
      "cell_type": "markdown",
      "metadata": {
        "id": "RoYLdCFToLRM",
        "colab_type": "text"
      },
      "source": [
        "# Import Libraries"
      ]
    },
    {
      "cell_type": "markdown",
      "metadata": {
        "id": "ieQzPnUdob8V",
        "colab_type": "text"
      },
      "source": [
        "## Pytorch"
      ]
    },
    {
      "cell_type": "code",
      "metadata": {
        "id": "P8SE_PLFnNM8",
        "colab_type": "code",
        "colab": {}
      },
      "source": [
        "import torch\n",
        "import torchvision"
      ],
      "execution_count": 0,
      "outputs": []
    },
    {
      "cell_type": "markdown",
      "metadata": {
        "id": "N3vKzhiyofXw",
        "colab_type": "text"
      },
      "source": [
        "## Tensorflow"
      ]
    },
    {
      "cell_type": "code",
      "metadata": {
        "id": "WfYMN7iAoh7B",
        "colab_type": "code",
        "colab": {}
      },
      "source": [
        "import tensorflow as tf"
      ],
      "execution_count": 0,
      "outputs": []
    },
    {
      "cell_type": "markdown",
      "metadata": {
        "id": "4cNO1xVaoqsP",
        "colab_type": "text"
      },
      "source": [
        "## Other useful python libraries"
      ]
    },
    {
      "cell_type": "code",
      "metadata": {
        "id": "3GaosCD0otaz",
        "colab_type": "code",
        "colab": {}
      },
      "source": [
        "import numpy as np\n",
        "import matplotlib.pyplot as plt\n",
        "%matplotlib inline"
      ],
      "execution_count": 0,
      "outputs": []
    },
    {
      "cell_type": "markdown",
      "metadata": {
        "id": "wDMNr6lnqfV0",
        "colab_type": "text"
      },
      "source": [
        "# Dataset Handling"
      ]
    },
    {
      "cell_type": "markdown",
      "metadata": {
        "id": "Ao3mVE0DqKIN",
        "colab_type": "text"
      },
      "source": [
        "**[MNIST](http://yann.lecun.com/exdb/mnist/) dataset consists of a training set of 60,000 examples and a test set of 10,000 examples, where each example is a 28x28 grayscale image of handwritten digits, associated with a label from 0 to 9.**\n",
        "\n",
        "**In Pytorch:** \n",
        "* Using transform while downloading the pixel values are both normalized to values between 0 and 1 and transformed as a tensor. \n",
        "*  Manually sample the validation dataset and load it as dataloader. \n",
        "* Mention batch size in Dataloader \n",
        "* One hot encoding of labels and final softmax activation is taken care by loss function\n",
        "\n",
        "**In Tensorflow:**\n",
        "* We normalize and transform to tensor separately after downloading the datasets.\n",
        "* Splitting can be done automatically while fitting the model.\n",
        "* Mention batch size while fitting\n",
        "* One hot encoding of labels and final softmax activation needs to be performed separately.\n"
      ]
    },
    {
      "cell_type": "markdown",
      "metadata": {
        "id": "J3fJDFOEqjhy",
        "colab_type": "text"
      },
      "source": [
        "## Pytorch"
      ]
    },
    {
      "cell_type": "code",
      "metadata": {
        "id": "xKyDngQYo7Xu",
        "colab_type": "code",
        "outputId": "badf3605-4fb2-4135-c905-01bacbb5402f",
        "colab": {
          "base_uri": "https://localhost:8080/",
          "height": 275
        }
      },
      "source": [
        "#create the transformer to transform the data as a tensor and normalize\n",
        "transforms = torchvision.transforms.Compose([torchvision.transforms.ToTensor()])\n",
        "\n",
        "#Create the train data\n",
        "train_dataset_py = torchvision.datasets.MNIST(root = 'data/',\n",
        "                                             download = True,\n",
        "                                             train = True,\n",
        "                                             transform = transforms)\n",
        "#Create the test data\n",
        "test_dataset_py = torchvision.datasets.MNIST(root = 'data/',\n",
        "                                             download = True,\n",
        "                                             train = False,\n",
        "                                             transform = transforms)"
      ],
      "execution_count": 0,
      "outputs": [
        {
          "output_type": "stream",
          "text": [
            "\r0it [00:00, ?it/s]"
          ],
          "name": "stderr"
        },
        {
          "output_type": "stream",
          "text": [
            "Downloading http://yann.lecun.com/exdb/mnist/train-images-idx3-ubyte.gz to data/MNIST/raw/train-images-idx3-ubyte.gz\n"
          ],
          "name": "stdout"
        },
        {
          "output_type": "stream",
          "text": [
            "9920512it [00:02, 3329402.71it/s]                            \n"
          ],
          "name": "stderr"
        },
        {
          "output_type": "stream",
          "text": [
            "Extracting data/MNIST/raw/train-images-idx3-ubyte.gz\n"
          ],
          "name": "stdout"
        },
        {
          "output_type": "stream",
          "text": [
            "\r0it [00:00, ?it/s]"
          ],
          "name": "stderr"
        },
        {
          "output_type": "stream",
          "text": [
            "Downloading http://yann.lecun.com/exdb/mnist/train-labels-idx1-ubyte.gz to data/MNIST/raw/train-labels-idx1-ubyte.gz\n"
          ],
          "name": "stdout"
        },
        {
          "output_type": "stream",
          "text": [
            "32768it [00:00, 48634.22it/s]                           \n",
            "0it [00:00, ?it/s]"
          ],
          "name": "stderr"
        },
        {
          "output_type": "stream",
          "text": [
            "Extracting data/MNIST/raw/train-labels-idx1-ubyte.gz\n",
            "Downloading http://yann.lecun.com/exdb/mnist/t10k-images-idx3-ubyte.gz to data/MNIST/raw/t10k-images-idx3-ubyte.gz\n"
          ],
          "name": "stdout"
        },
        {
          "output_type": "stream",
          "text": [
            "1654784it [00:02, 816718.38it/s]                             \n",
            "0it [00:00, ?it/s]"
          ],
          "name": "stderr"
        },
        {
          "output_type": "stream",
          "text": [
            "Extracting data/MNIST/raw/t10k-images-idx3-ubyte.gz\n",
            "Downloading http://yann.lecun.com/exdb/mnist/t10k-labels-idx1-ubyte.gz to data/MNIST/raw/t10k-labels-idx1-ubyte.gz\n"
          ],
          "name": "stdout"
        },
        {
          "output_type": "stream",
          "text": [
            "8192it [00:00, 18399.78it/s]            "
          ],
          "name": "stderr"
        },
        {
          "output_type": "stream",
          "text": [
            "Extracting data/MNIST/raw/t10k-labels-idx1-ubyte.gz\n",
            "Processing...\n",
            "Done!\n"
          ],
          "name": "stdout"
        },
        {
          "output_type": "stream",
          "text": [
            "\n"
          ],
          "name": "stderr"
        }
      ]
    },
    {
      "cell_type": "code",
      "metadata": {
        "id": "dHD40-lkr-DI",
        "colab_type": "code",
        "outputId": "8600a088-dfa0-499c-db81-cc775809501e",
        "colab": {
          "base_uri": "https://localhost:8080/",
          "height": 286
        }
      },
      "source": [
        "#Visualize an image from dataset\n",
        "def imshowPytorch(img):\n",
        "  npimg = img.numpy() #tensor to numpy\n",
        "  plt.imshow(np.transpose(npimg, (1,2,0)))\n",
        "\n",
        "image, label = train_dataset_py[0]\n",
        "imshowPytorch(torchvision.utils.make_grid(image))\n",
        "print(label)"
      ],
      "execution_count": 0,
      "outputs": [
        {
          "output_type": "stream",
          "text": [
            "5\n"
          ],
          "name": "stdout"
        },
        {
          "output_type": "display_data",
          "data": {
            "image/png": "[encoded data removed]",
            "text/plain": [
              "<Figure size 432x288 with 1 Axes>"
            ]
          },
          "metadata": {
            "tags": []
          }
        }
      ]
    },
    {
      "cell_type": "code",
      "metadata": {
        "id": "MtmKyijmm464",
        "colab_type": "code",
        "colab": {}
      },
      "source": [
        "#randomly shuffling and separating out a desired portion as validation\n",
        "def split_indices(n, val_pct):\n",
        "  \n",
        "  #determine the size of validation set\n",
        "  n_val = int(val_pct*n)\n",
        "  \n",
        "  #create random permutation of 0 to n-1\n",
        "  idxs = np.random.permutation(n)\n",
        "  \n",
        "  #pick first n_val indices for validation set\n",
        "  return idxs[n_val:], idxs[:n_val]\n",
        "\n",
        "train_indices, val_indices = split_indices(len(train_dataset_py), val_pct=0.20)"
      ],
      "execution_count": 0,
      "outputs": []
    },
    {
      "cell_type": "code",
      "metadata": {
        "id": "5WEGbxKanszT",
        "colab_type": "code",
        "colab": {}
      },
      "source": [
        "#create data loader\n",
        "from torch.utils.data.sampler import SubsetRandomSampler\n",
        "from torch.utils.data.dataloader import DataLoader\n",
        "\n",
        "batch_size=64\n",
        "\n",
        "#Training sampler and dataloader\n",
        "train_sampler = SubsetRandomSampler(train_indices)\n",
        "train_loader = DataLoader(train_dataset_py, batch_size,sampler= train_sampler)\n",
        "\n",
        "#Validation sampler and data loader\n",
        "val_sampler = SubsetRandomSampler(val_indices)\n",
        "val_loader = DataLoader(train_dataset_py, batch_size, sampler= val_sampler)\n",
        "\n",
        "#Test data loader\n",
        "test_loader = DataLoader(test_dataset_py, batch_size, shuffle = False)"
      ],
      "execution_count": 0,
      "outputs": []
    },
    {
      "cell_type": "markdown",
      "metadata": {
        "id": "j8GA5q_qzlFg",
        "colab_type": "text"
      },
      "source": [
        "## Tensorflow"
      ]
    },
    {
      "cell_type": "code",
      "metadata": {
        "id": "rrny-i7Azo1V",
        "colab_type": "code",
        "outputId": "04b3ede5-5ae0-4411-91a2-0051868697eb",
        "colab": {
          "base_uri": "https://localhost:8080/",
          "height": 71
        }
      },
      "source": [
        "#load the dataset\n",
        "mnist = tf.keras.datasets.mnist\n",
        "\n",
        "#split to test and train\n",
        "(train_images_tf, train_labels_tf), (test_images_tf, test_labels_tf) = mnist.load_data()\n"
      ],
      "execution_count": 0,
      "outputs": [
        {
          "output_type": "stream",
          "text": [
            "Downloading data from https://storage.googleapis.com/tensorflow/tf-keras-datasets/mnist.npz\n",
            "11493376/11490434 [==============================] - 0s 0us/step\n"
          ],
          "name": "stdout"
        }
      ]
    },
    {
      "cell_type": "code",
      "metadata": {
        "id": "xAK8MN5fNWVs",
        "colab_type": "code",
        "outputId": "18bbb6f1-380c-4987-98eb-55ef98dbddcd",
        "colab": {
          "base_uri": "https://localhost:8080/",
          "height": 286
        }
      },
      "source": [
        "#Visualize an image from dataset\n",
        "def imshowTensorFlow(img):\n",
        "  plt.imshow(img,  cmap='gray')\n",
        "  \n",
        "imshowTensorFlow(train_images_tf[0])\n",
        "print(train_labels_tf[0])"
      ],
      "execution_count": 0,
      "outputs": [
        {
          "output_type": "stream",
          "text": [
            "5\n"
          ],
          "name": "stdout"
        },
        {
          "output_type": "display_data",
          "data": {
            "image/png": "[encoded data removed]",
            "text/plain": [
              "<Figure size 432x288 with 1 Axes>"
            ]
          },
          "metadata": {
            "tags": []
          }
        }
      ]
    },
    {
      "cell_type": "code",
      "metadata": {
        "id": "_TXFXemS8EwV",
        "colab_type": "code",
        "colab": {}
      },
      "source": [
        "#Reshape the training dataset to 4D so that last digit can be describes as \n",
        "#channels which is 1 for greyscale images\n",
        "train_images_tf = train_images_tf.reshape(train_images_tf.shape[0], 28, 28,1)\n",
        "test_images_tf = test_images_tf.reshape(test_images_tf.shape[0], 28, 28,1)\n",
        "\n",
        "#Convert the pixel values from int to float values\n",
        "#Normalize the dataset as the pixel values are between 0 and 255\n",
        "train_images_tf = train_images_tf.astype('float32')\n",
        "test_images_tf = test_images_tf.astype('float32')\n",
        "train_images_tf = train_images_tf/ 255.0\n",
        "test_images_tf = test_images_tf/ 255.0\n",
        "\n",
        "# Convert 1-dimensional class arrays to 10-dimensional class matrices\n",
        "train_labels_tf = tf.keras.utils.to_categorical(train_labels_tf, 10, dtype='float32')\n",
        "test_labels_tf = tf.keras.utils.to_categorical(test_labels_tf, 10, dtype='float32')"
      ],
      "execution_count": 0,
      "outputs": []
    },
    {
      "cell_type": "markdown",
      "metadata": {
        "id": "qK94BW7GwaoC",
        "colab_type": "text"
      },
      "source": [
        "# Model Building"
      ]
    },
    {
      "cell_type": "markdown",
      "metadata": {
        "id": "dDyW8tlsyz4g",
        "colab_type": "text"
      },
      "source": [
        "**Same Network Architecture**"
      ]
    },
    {
      "cell_type": "markdown",
      "metadata": {
        "id": "xL1LSYDt3Pm_",
        "colab_type": "text"
      },
      "source": [
        "## Pytorch"
      ]
    },
    {
      "cell_type": "code",
      "metadata": {
        "id": "JWT94SwlwfnK",
        "colab_type": "code",
        "colab": {}
      },
      "source": [
        "# Define the model\n",
        "class NeuralNet(torch.nn.Module):\n",
        "    def __init__(self, num_of_class):\n",
        "        super(NeuralNet, self).__init__()\n",
        "        self.layer1 = torch.nn.Sequential(\n",
        "            torch.nn.Conv2d(1, 32, kernel_size=3),\n",
        "            torch.nn.BatchNorm2d(32),\n",
        "            torch.nn.ReLU(),\n",
        "            torch.nn.Conv2d(32, 64, kernel_size=3),\n",
        "            torch.nn.BatchNorm2d(64),\n",
        "            torch.nn.ReLU(),\n",
        "            torch.nn.MaxPool2d(kernel_size=2, stride=2))\n",
        "        self.layer2 = torch.nn.Sequential(\n",
        "            torch.nn.Conv2d(64, 64, kernel_size=3),\n",
        "            torch.nn.BatchNorm2d(64),\n",
        "            torch.nn.ReLU(),\n",
        "            torch.nn.MaxPool2d(kernel_size=2, stride=2),\n",
        "            torch.nn.Conv2d(64, 64, kernel_size=3),\n",
        "            torch.nn.BatchNorm2d(64),\n",
        "            torch.nn.ReLU())\n",
        "        self.layer3 = torch.nn.Sequential(\n",
        "            torch.nn.Conv2d(64, num_of_class, kernel_size=3))\n",
        "\n",
        "    def forward(self, x):\n",
        "        out = self.layer1(x)\n",
        "        out = self.layer2(out)\n",
        "        out = self.layer3(out)\n",
        "        out = out.reshape(out.size(0), -1)\n",
        "        return out"
      ],
      "execution_count": 0,
      "outputs": []
    },
    {
      "cell_type": "markdown",
      "metadata": {
        "id": "IBfSAfWb5PuF",
        "colab_type": "text"
      },
      "source": [
        "## Tensorflow"
      ]
    },
    {
      "cell_type": "code",
      "metadata": {
        "id": "9WbmEGRK5RWx",
        "colab_type": "code",
        "outputId": "61121fe9-e6ed-4d2b-ae3a-e23444dd4f1e",
        "colab": {
          "base_uri": "https://localhost:8080/",
          "height": 88
        }
      },
      "source": [
        "# Define the model\n",
        "modeltf = tf.keras.models.Sequential([\n",
        "    tf.keras.layers.Conv2D(32, (3, 3), input_shape=(28, 28, 1)),\n",
        "    tf.keras.layers.BatchNormalization(momentum=0.1,epsilon=1e-5),\n",
        "    tf.keras.layers.Activation('relu'),\n",
        "    tf.keras.layers.Conv2D(64, (3, 3), activation='relu'),\n",
        "    tf.keras.layers.BatchNormalization(momentum=0.1,epsilon=1e-5),\n",
        "    tf.keras.layers.Activation('relu'),\n",
        "    tf.keras.layers.MaxPool2D((2,2)),\n",
        "    tf.keras.layers.Conv2D(64, (3, 3), activation='relu'),\n",
        "    tf.keras.layers.BatchNormalization(momentum=0.1,epsilon=1e-5),\n",
        "    tf.keras.layers.Activation('relu'),\n",
        "    tf.keras.layers.MaxPool2D((2,2)),\n",
        "    tf.keras.layers.Conv2D(64, (3,3), activation='relu'),\n",
        "    tf.keras.layers.BatchNormalization(momentum=0.1,epsilon=1e-5),\n",
        "    tf.keras.layers.Activation('relu'),\n",
        "    tf.keras.layers.Conv2D(10, (3,3)),\n",
        "    tf.keras.layers.Flatten(),\n",
        "    tf.keras.layers.Activation('softmax')\n",
        "    ])"
      ],
      "execution_count": 0,
      "outputs": [
        {
          "output_type": "stream",
          "text": [
            "WARNING:tensorflow:From /usr/local/lib/python3.6/dist-packages/tensorflow/python/ops/resource_variable_ops.py:435: colocate_with (from tensorflow.python.framework.ops) is deprecated and will be removed in a future version.\n",
            "Instructions for updating:\n",
            "Colocations handled automatically by placer.\n"
          ],
          "name": "stdout"
        }
      ]
    },
    {
      "cell_type": "markdown",
      "metadata": {
        "id": "QurDq7NWA_k8",
        "colab_type": "text"
      },
      "source": [
        "# Model Training"
      ]
    },
    {
      "cell_type": "markdown",
      "metadata": {
        "id": "rKEkROfo3vvx",
        "colab_type": "text"
      },
      "source": [
        "**In Pytorch:**\n",
        "* To train model on GPU you have to implement these steps for dataloader and model.\n",
        "* To fit the model you need to define every steps that goes from training to calculate loss to backpropagation to optimization. Always reset the gradients after every update.\n",
        "\n",
        "**In Tensorflow:**\n",
        "* Tensorflow detects if GPU is on and trains on that automatically\n",
        "* Everything works in the background, you just need to pass the parameters in compile and fit functions."
      ]
    },
    {
      "cell_type": "markdown",
      "metadata": {
        "id": "aWlxJ0HlBDHw",
        "colab_type": "text"
      },
      "source": [
        "## Pytorch"
      ]
    },
    {
      "cell_type": "markdown",
      "metadata": {
        "id": "rq5q5cOd_m6R",
        "colab_type": "text"
      },
      "source": [
        "### Using GPU"
      ]
    },
    {
      "cell_type": "code",
      "metadata": {
        "id": "dJM7Pbxw_tmL",
        "colab_type": "code",
        "colab": {}
      },
      "source": [
        "def get_default_device():\n",
        "  \"\"\"Pick GPUif available, else CPU\"\"\"\n",
        "  if torch.cuda.is_available():\n",
        "    return torch.device('cuda')\n",
        "  else:\n",
        "    return torch.device('cpu')\n",
        "\n",
        "device = get_default_device()"
      ],
      "execution_count": 0,
      "outputs": []
    },
    {
      "cell_type": "code",
      "metadata": {
        "id": "YEcVNtO5_v4k",
        "colab_type": "code",
        "colab": {}
      },
      "source": [
        "def to_device(data, device):\n",
        "  \"\"\"Move tensors to chosen device\"\"\"\n",
        "  if isinstance(data, (list, tuple)):\n",
        "    return [to_device(x, device) for x in data]\n",
        "  return data.to(device, non_blocking=True)"
      ],
      "execution_count": 0,
      "outputs": []
    },
    {
      "cell_type": "code",
      "metadata": {
        "id": "kZl-vYWW_7lX",
        "colab_type": "code",
        "colab": {}
      },
      "source": [
        "class DeviceDataLoader():\n",
        "  \"\"\"Wrap a dataloader to move data to a device\"\"\"\n",
        "  def __init__(self, dl, device):\n",
        "    self.dl = dl\n",
        "    self.device = device\n",
        "    \n",
        "  def __iter__(self):\n",
        "    \"\"\"Yield a batch of data after moving it to device\"\"\"\n",
        "    for b in self.dl:\n",
        "      yield to_device(b, self.device)\n",
        "      \n",
        "  def __len__(self):\n",
        "    \"\"\"Number of batches\"\"\"\n",
        "    return len(self.dl)"
      ],
      "execution_count": 0,
      "outputs": []
    },
    {
      "cell_type": "code",
      "metadata": {
        "id": "0xx2fXE4AAtq",
        "colab_type": "code",
        "colab": {}
      },
      "source": [
        "#Wrap the data loader using DeviceDataLoader\n",
        "train_dl = DeviceDataLoader(train_loader, device)\n",
        "valid_dl = DeviceDataLoader(val_loader, device)\n",
        "test_dl = DeviceDataLoader(test_loader, device)"
      ],
      "execution_count": 0,
      "outputs": []
    },
    {
      "cell_type": "markdown",
      "metadata": {
        "id": "C0zbeVkiAKYq",
        "colab_type": "text"
      },
      "source": [
        "### Training the Model"
      ]
    },
    {
      "cell_type": "code",
      "metadata": {
        "id": "vGnZzc6-Bc8h",
        "colab_type": "code",
        "colab": {}
      },
      "source": [
        "# Evaluation Metric\n",
        "def accuracy(outputs, labels):\n",
        "  #determine the predicted label for each image by simply choosing \n",
        "  #the index of the element with the highest probability in each output row.\n",
        "  _,preds = torch.max(outputs, dim=1)\n",
        "  return torch.sum(preds == labels).item() / len(preds)"
      ],
      "execution_count": 0,
      "outputs": []
    },
    {
      "cell_type": "code",
      "metadata": {
        "id": "Z2riuksWBCVE",
        "colab_type": "code",
        "colab": {}
      },
      "source": [
        "def loss_batch(model, loss_func, xb, yb, opt=None, metric=None):\n",
        "  \n",
        "  #Calculate loss\n",
        "  preds = model(xb)\n",
        "  loss = loss_func(preds, yb)\n",
        "  \n",
        "  if opt is not None:\n",
        "    #Compute gradients\n",
        "    loss.backward()\n",
        "    #Update parameters\n",
        "    opt.step()\n",
        "    #Reset gradients\n",
        "    opt.zero_grad()\n",
        "    \n",
        "  metric_result = None\n",
        "  if metric is not None:\n",
        "    #compute metric\n",
        "    metric_result = metric(preds, yb)\n",
        "      \n",
        "  return loss.item(), len(xb), metric_result"
      ],
      "execution_count": 0,
      "outputs": []
    },
    {
      "cell_type": "code",
      "metadata": {
        "id": "7PU_Qb3WBPcU",
        "colab_type": "code",
        "colab": {}
      },
      "source": [
        "def evaluate(model, loss_fn, dl, metric=None):\n",
        "  with torch.no_grad():\n",
        "    \n",
        "    #Pass each batch through the model\n",
        "    results = [loss_batch(model, loss_fn, xb, yb, metric=metric) for xb, yb in dl]\n",
        "    \n",
        "    #Separate losses, counts and metrics\n",
        "    losses, nums, metrics = zip(*results)\n",
        "    \n",
        "    #Total size of dataset\n",
        "    total = np.sum(nums)\n",
        "    \n",
        "    #Avg. loss across batches\n",
        "    avg_loss = np.sum(np.multiply(losses, nums)) / total\n",
        "    avg_metric = None\n",
        "    if metric is not None:\n",
        "      #avg of metric across batches\n",
        "      avg_metric = np.sum(np.multiply(metrics, nums)) / total\n",
        "  \n",
        "  return avg_loss, total, avg_metric"
      ],
      "execution_count": 0,
      "outputs": []
    },
    {
      "cell_type": "code",
      "metadata": {
        "id": "Zl6FW-y7BjTu",
        "colab_type": "code",
        "colab": {}
      },
      "source": [
        "def fit(epochs, lr, model, loss_fn, train_dl, \n",
        "        valid_dl, metric=None, opt_fn=None):\n",
        "  \n",
        "  losses, metrics = [],[]\n",
        "  \n",
        "  #Instantiate the optimizer\n",
        "  if opt_fn is None: opt_fn = torch.optim.Adam\n",
        "  opt = torch.optim.Adam(model.parameters(), lr=lr)\n",
        "  \n",
        "  for epoch in range(epochs):\n",
        "    #Training\n",
        "    for xb, yb in train_dl:\n",
        "      train_loss,_,train_acc = loss_batch(model, loss_fn, xb, yb, opt, metric)\n",
        "    \n",
        "    #Evaluation\n",
        "    val_loss,_, val_acc = evaluate(model, loss_fn, valid_dl, metric)\n",
        "    \n",
        "    #Record the loss and metric\n",
        "    losses.append(val_loss)\n",
        "    metrics.append(val_acc)\n",
        "    \n",
        "    #Print progress\n",
        "    if metric is None:\n",
        "      print('Epoch [{}/{}], Train_Loss: {:.4f}, Val_Loss: {:.4f}'.format\n",
        "           (epoch+1, epochs, train_loss, val_loss))\n",
        "    else:\n",
        "      print('Epoch [{}/{}], Train_Loss: {:.4f}, Train_Acc {:.4f}, Val_Loss: {:.4f}, Val_Acc: {:.4f}'.format\n",
        "           (epoch+1, epochs, train_loss, train_acc, val_loss, val_acc))\n",
        "      \n",
        "  return losses, metrics"
      ],
      "execution_count": 0,
      "outputs": []
    },
    {
      "cell_type": "code",
      "metadata": {
        "id": "sw9hvz5BBnmF",
        "colab_type": "code",
        "outputId": "4a1aa63b-4122-49b9-96cd-6a7546e7a882",
        "colab": {
          "base_uri": "https://localhost:8080/",
          "height": 241
        }
      },
      "source": [
        "%%time\n",
        "#Lets fit the model\n",
        "modelpy = NeuralNet(num_of_class=10)\n",
        "to_device(modelpy, device)\n",
        "\n",
        "#Fit\n",
        "losses, metrics = fit(10, 0.001, modelpy, torch.nn.CrossEntropyLoss(), train_dl, valid_dl, metric=accuracy)"
      ],
      "execution_count": 0,
      "outputs": [
        {
          "output_type": "stream",
          "text": [
            "Epoch [1/10], Train_Loss: 0.1842, Train_Acc 0.9531, Val_Loss: 0.0441, Val_Acc: 0.9873\n",
            "Epoch [2/10], Train_Loss: 0.0200, Train_Acc 1.0000, Val_Loss: 0.0370, Val_Acc: 0.9893\n",
            "Epoch [3/10], Train_Loss: 0.0008, Train_Acc 1.0000, Val_Loss: 0.0322, Val_Acc: 0.9902\n",
            "Epoch [4/10], Train_Loss: 0.0329, Train_Acc 0.9844, Val_Loss: 0.0359, Val_Acc: 0.9890\n",
            "Epoch [5/10], Train_Loss: 0.0043, Train_Acc 1.0000, Val_Loss: 0.0345, Val_Acc: 0.9907\n",
            "Epoch [6/10], Train_Loss: 0.0096, Train_Acc 1.0000, Val_Loss: 0.0326, Val_Acc: 0.9918\n",
            "Epoch [7/10], Train_Loss: 0.0002, Train_Acc 1.0000, Val_Loss: 0.0336, Val_Acc: 0.9905\n",
            "Epoch [8/10], Train_Loss: 0.0105, Train_Acc 1.0000, Val_Loss: 0.0366, Val_Acc: 0.9912\n",
            "Epoch [9/10], Train_Loss: 0.0050, Train_Acc 1.0000, Val_Loss: 0.0458, Val_Acc: 0.9878\n",
            "Epoch [10/10], Train_Loss: 0.0004, Train_Acc 1.0000, Val_Loss: 0.0322, Val_Acc: 0.9918\n",
            "CPU times: user 1min 28s, sys: 5.24 s, total: 1min 33s\n",
            "Wall time: 1min 37s\n"
          ],
          "name": "stdout"
        }
      ]
    },
    {
      "cell_type": "markdown",
      "metadata": {
        "id": "ik-UtDdWU4dM",
        "colab_type": "text"
      },
      "source": [
        "### Visualization"
      ]
    },
    {
      "cell_type": "code",
      "metadata": {
        "id": "N-19httEU4JT",
        "colab_type": "code",
        "outputId": "13558e26-5b0a-4d69-d55c-5b6ea2d82c02",
        "colab": {
          "base_uri": "https://localhost:8080/",
          "height": 295
        }
      },
      "source": [
        "plt.plot(metrics, '-x')\n",
        "plt.xlabel('epochs')\n",
        "plt.ylabel('val accuracy')\n",
        "plt.title('Accuracy vs No. of epochs')\n",
        "plt.show()"
      ],
      "execution_count": 0,
      "outputs": [
        {
          "output_type": "display_data",
          "data": {
            "image/png": "[encoded data removed]",
            "text/plain": [
              "<Figure size 432x288 with 1 Axes>"
            ]
          },
          "metadata": {
            "tags": []
          }
        }
      ]
    },
    {
      "cell_type": "markdown",
      "metadata": {
        "id": "R_utJrHh_EI3",
        "colab_type": "text"
      },
      "source": [
        "## Tensorflow"
      ]
    },
    {
      "cell_type": "markdown",
      "metadata": {
        "id": "WZGGpt14VH5k",
        "colab_type": "text"
      },
      "source": [
        "### Training the Model"
      ]
    },
    {
      "cell_type": "code",
      "metadata": {
        "id": "uFaMCkcS_Fwu",
        "colab_type": "code",
        "colab": {}
      },
      "source": [
        "#Build the model\n",
        "modeltf.compile(loss='categorical_crossentropy',\n",
        "                optimizer='adam', \n",
        "                metrics=['accuracy'])"
      ],
      "execution_count": 0,
      "outputs": []
    },
    {
      "cell_type": "code",
      "metadata": {
        "id": "t0Si02LmCe35",
        "colab_type": "code",
        "outputId": "a6d62cd0-4938-43da-ec25-2367752f3a2a",
        "colab": {
          "base_uri": "https://localhost:8080/",
          "height": 479
        }
      },
      "source": [
        "%%time\n",
        "#Lets fit the model\n",
        "history = modeltf.fit(train_images_tf, train_labels_tf, \n",
        "                      batch_size=64, epochs=10, \n",
        "                      validation_split=0.2, \n",
        "                      shuffle=True)"
      ],
      "execution_count": 0,
      "outputs": [
        {
          "output_type": "stream",
          "text": [
            "Train on 48000 samples, validate on 12000 samples\n",
            "WARNING:tensorflow:From /usr/local/lib/python3.6/dist-packages/tensorflow/python/ops/math_ops.py:3066: to_int32 (from tensorflow.python.ops.math_ops) is deprecated and will be removed in a future version.\n",
            "Instructions for updating:\n",
            "Use tf.cast instead.\n",
            "Epoch 1/10\n",
            "48000/48000 [==============================] - 8s 161us/sample - loss: 0.1061 - acc: 0.9686 - val_loss: 0.0468 - val_acc: 0.9855\n",
            "Epoch 2/10\n",
            "48000/48000 [==============================] - 7s 146us/sample - loss: 0.0323 - acc: 0.9904 - val_loss: 0.0400 - val_acc: 0.9881\n",
            "Epoch 3/10\n",
            "48000/48000 [==============================] - 7s 155us/sample - loss: 0.0211 - acc: 0.9937 - val_loss: 0.0366 - val_acc: 0.9896\n",
            "Epoch 4/10\n",
            "48000/48000 [==============================] - 7s 151us/sample - loss: 0.0152 - acc: 0.9951 - val_loss: 0.0316 - val_acc: 0.9909\n",
            "Epoch 5/10\n",
            "48000/48000 [==============================] - 7s 146us/sample - loss: 0.0128 - acc: 0.9962 - val_loss: 0.0374 - val_acc: 0.9887\n",
            "Epoch 6/10\n",
            "48000/48000 [==============================] - 7s 146us/sample - loss: 0.0113 - acc: 0.9963 - val_loss: 0.0342 - val_acc: 0.9896\n",
            "Epoch 7/10\n",
            "48000/48000 [==============================] - 7s 145us/sample - loss: 0.0083 - acc: 0.9974 - val_loss: 0.0415 - val_acc: 0.9887\n",
            "Epoch 8/10\n",
            "48000/48000 [==============================] - 7s 145us/sample - loss: 0.0073 - acc: 0.9975 - val_loss: 0.0369 - val_acc: 0.9906\n",
            "Epoch 9/10\n",
            "48000/48000 [==============================] - 7s 145us/sample - loss: 0.0056 - acc: 0.9981 - val_loss: 0.0319 - val_acc: 0.9918\n",
            "Epoch 10/10\n",
            "48000/48000 [==============================] - 7s 150us/sample - loss: 0.0084 - acc: 0.9972 - val_loss: 0.0328 - val_acc: 0.9921\n",
            "CPU times: user 1min 18s, sys: 8.83 s, total: 1min 27s\n",
            "Wall time: 1min 12s\n"
          ],
          "name": "stdout"
        }
      ]
    },
    {
      "cell_type": "markdown",
      "metadata": {
        "id": "GmvOMUnuVCTy",
        "colab_type": "text"
      },
      "source": [
        "### Visualization"
      ]
    },
    {
      "cell_type": "code",
      "metadata": {
        "id": "SeqNVIzGVC97",
        "colab_type": "code",
        "outputId": "8bd9e04f-c880-44d5-db05-6dfeea8247ab",
        "colab": {
          "base_uri": "https://localhost:8080/",
          "height": 295
        }
      },
      "source": [
        "plt.plot(history.history['val_acc'], '-x')\n",
        "plt.xlabel('epochs')\n",
        "plt.ylabel('val accuracy')\n",
        "plt.title('Accuracy vs No. of epochs')\n",
        "plt.show()"
      ],
      "execution_count": 0,
      "outputs": [
        {
          "output_type": "display_data",
          "data": {
            "image/png": "[encoded data removed]",
            "text/plain": [
              "<Figure size 432x288 with 1 Axes>"
            ]
          },
          "metadata": {
            "tags": []
          }
        }
      ]
    },
    {
      "cell_type": "markdown",
      "metadata": {
        "id": "zwN-3EE_Ul-E",
        "colab_type": "text"
      },
      "source": [
        "# Model Testing"
      ]
    },
    {
      "cell_type": "markdown",
      "metadata": {
        "id": "tpBaHTHDWDhg",
        "colab_type": "text"
      },
      "source": [
        "## Pytorch"
      ]
    },
    {
      "cell_type": "code",
      "metadata": {
        "id": "oYXNkbRLOgDZ",
        "colab_type": "code",
        "outputId": "3f611bc1-cffc-4f3b-8ce5-e5f676fc7de6",
        "colab": {
          "base_uri": "https://localhost:8080/",
          "height": 34
        }
      },
      "source": [
        "test_loss, _, test_acc = evaluate(modelpy, torch.nn.CrossEntropyLoss(), test_dl, metric=accuracy)\n",
        "print('Test Loss: {:.4f}, Test Accuracy: {:.4f}'.format (test_loss, test_acc))"
      ],
      "execution_count": 0,
      "outputs": [
        {
          "output_type": "stream",
          "text": [
            "Test Loss: 0.0204, Test Accuracy: 0.9929\n"
          ],
          "name": "stdout"
        }
      ]
    },
    {
      "cell_type": "markdown",
      "metadata": {
        "id": "UADbmwDgWHHT",
        "colab_type": "text"
      },
      "source": [
        "## Tensorflow"
      ]
    },
    {
      "cell_type": "code",
      "metadata": {
        "id": "KJl8Pjm3WIKr",
        "colab_type": "code",
        "outputId": "06fcc8f0-5923-455f-82ff-30c1a3e61c76",
        "colab": {
          "base_uri": "https://localhost:8080/",
          "height": 71
        }
      },
      "source": [
        "test_loss, test_acc = modeltf.evaluate(test_images_tf, test_labels_tf)\n",
        "print('Test Loss: {:.4f}, Test Accuracy: {:.4f}'.format(test_loss, test_acc))"
      ],
      "execution_count": 0,
      "outputs": [
        {
          "output_type": "stream",
          "text": [
            "10000/10000 [==============================] - 1s 74us/sample - loss: 0.0329 - acc: 0.9928\n",
            "Test Loss: 0.0329, Test Accuracy: 0.9928\n"
          ],
          "name": "stdout"
        }
      ]
    },
    {
      "cell_type": "markdown",
      "metadata": {
        "id": "QAZBDNezXMho",
        "colab_type": "text"
      },
      "source": [
        "# Save and Load the Model"
      ]
    },
    {
      "cell_type": "markdown",
      "metadata": {
        "id": "Iem3Vo7iXQTC",
        "colab_type": "text"
      },
      "source": [
        "## Pytorch"
      ]
    },
    {
      "cell_type": "code",
      "metadata": {
        "id": "Qsiyl170XO3B",
        "colab_type": "code",
        "outputId": "e4589362-9211-470d-faa4-41a9174be38c",
        "colab": {
          "base_uri": "https://localhost:8080/",
          "height": 462
        }
      },
      "source": [
        "torch.save(modelpy, 'modelpy.pt')\n",
        "model_load_py = torch.load(\"modelpy.pt\")\n",
        "model_load_py"
      ],
      "execution_count": 0,
      "outputs": [
        {
          "output_type": "stream",
          "text": [
            "/usr/local/lib/python3.6/dist-packages/torch/serialization.py:256: UserWarning: Couldn't retrieve source code for container of type NeuralNet. It won't be checked for correctness upon loading.\n",
            "  \"type \" + obj.__name__ + \". It won't be checked \"\n"
          ],
          "name": "stderr"
        },
        {
          "output_type": "execute_result",
          "data": {
            "text/plain": [
              "NeuralNet(\n",
              "  (layer1): Sequential(\n",
              "    (0): Conv2d(1, 32, kernel_size=(3, 3), stride=(1, 1))\n",
              "    (1): BatchNorm2d(32, eps=1e-05, momentum=0.1, affine=True, track_running_stats=True)\n",
              "    (2): ReLU()\n",
              "    (3): Conv2d(32, 64, kernel_size=(3, 3), stride=(1, 1))\n",
              "    (4): BatchNorm2d(64, eps=1e-05, momentum=0.1, affine=True, track_running_stats=True)\n",
              "    (5): ReLU()\n",
              "    (6): MaxPool2d(kernel_size=2, stride=2, padding=0, dilation=1, ceil_mode=False)\n",
              "  )\n",
              "  (layer2): Sequential(\n",
              "    (0): Conv2d(64, 64, kernel_size=(3, 3), stride=(1, 1))\n",
              "    (1): BatchNorm2d(64, eps=1e-05, momentum=0.1, affine=True, track_running_stats=True)\n",
              "    (2): ReLU()\n",
              "    (3): MaxPool2d(kernel_size=2, stride=2, padding=0, dilation=1, ceil_mode=False)\n",
              "    (4): Conv2d(64, 64, kernel_size=(3, 3), stride=(1, 1))\n",
              "    (5): BatchNorm2d(64, eps=1e-05, momentum=0.1, affine=True, track_running_stats=True)\n",
              "    (6): ReLU()\n",
              "  )\n",
              "  (layer3): Sequential(\n",
              "    (0): Conv2d(64, 10, kernel_size=(3, 3), stride=(1, 1))\n",
              "  )\n",
              ")"
            ]
          },
          "metadata": {
            "tags": []
          },
          "execution_count": 28
        }
      ]
    },
    {
      "cell_type": "markdown",
      "metadata": {
        "id": "qVcfD6XoXbYt",
        "colab_type": "text"
      },
      "source": [
        "## Tensorflow"
      ]
    },
    {
      "cell_type": "code",
      "metadata": {
        "id": "GWD8q4FnXcid",
        "colab_type": "code",
        "outputId": "22c2aa4b-cca4-45af-b5d5-ed3339d613b0",
        "colab": {
          "base_uri": "https://localhost:8080/",
          "height": 714
        }
      },
      "source": [
        "modeltf.save('modeltf.h5')\n",
        "model_load_tf = tf.keras.models.load_model('modeltf.h5')\n",
        "model_load_tf.summary()"
      ],
      "execution_count": 0,
      "outputs": [
        {
          "output_type": "stream",
          "text": [
            "_________________________________________________________________\n",
            "Layer (type)                 Output Shape              Param #   \n",
            "=================================================================\n",
            "conv2d (Conv2D)              (None, 26, 26, 32)        320       \n",
            "_________________________________________________________________\n",
            "batch_normalization_v1 (Batc (None, 26, 26, 32)        128       \n",
            "_________________________________________________________________\n",
            "activation (Activation)      (None, 26, 26, 32)        0         \n",
            "_________________________________________________________________\n",
            "conv2d_1 (Conv2D)            (None, 24, 24, 64)        18496     \n",
            "_________________________________________________________________\n",
            "batch_normalization_v1_1 (Ba (None, 24, 24, 64)        256       \n",
            "_________________________________________________________________\n",
            "activation_1 (Activation)    (None, 24, 24, 64)        0         \n",
            "_________________________________________________________________\n",
            "max_pooling2d (MaxPooling2D) (None, 12, 12, 64)        0         \n",
            "_________________________________________________________________\n",
            "conv2d_2 (Conv2D)            (None, 10, 10, 64)        36928     \n",
            "_________________________________________________________________\n",
            "batch_normalization_v1_2 (Ba (None, 10, 10, 64)        256       \n",
            "_________________________________________________________________\n",
            "activation_2 (Activation)    (None, 10, 10, 64)        0         \n",
            "_________________________________________________________________\n",
            "max_pooling2d_1 (MaxPooling2 (None, 5, 5, 64)          0         \n",
            "_________________________________________________________________\n",
            "conv2d_3 (Conv2D)            (None, 3, 3, 64)          36928     \n",
            "_________________________________________________________________\n",
            "batch_normalization_v1_3 (Ba (None, 3, 3, 64)          256       \n",
            "_________________________________________________________________\n",
            "activation_3 (Activation)    (None, 3, 3, 64)          0         \n",
            "_________________________________________________________________\n",
            "conv2d_4 (Conv2D)            (None, 1, 1, 10)          5770      \n",
            "_________________________________________________________________\n",
            "flatten (Flatten)            (None, 10)                0         \n",
            "_________________________________________________________________\n",
            "activation_4 (Activation)    (None, 10)                0         \n",
            "=================================================================\n",
            "Total params: 99,338\n",
            "Trainable params: 98,890\n",
            "Non-trainable params: 448\n",
            "_________________________________________________________________\n"
          ],
          "name": "stdout"
        }
      ]
    },
    {
      "cell_type": "markdown",
      "metadata": {
        "id": "hYdJpWAQ5uWc",
        "colab_type": "text"
      },
      "source": [
        "#Conclusion"
      ]
    },
    {
      "cell_type": "markdown",
      "metadata": {
        "id": "xQSTXqyk5xsQ",
        "colab_type": "text"
      },
      "source": [
        "Both Deep Learning libraries have their own advantages and disadvantages. Go through this Fast.ai article[https://www.fast.ai/2017/09/08/introducing-pytorch-for-fastai/] for concluding."
      ]
    },
    {
      "cell_type": "code",
      "metadata": {
        "id": "LLiERcnC69QJ",
        "colab_type": "code",
        "colab": {}
      },
      "source": [
        ""
      ],
      "execution_count": 0,
      "outputs": []
    }
  ]
}
