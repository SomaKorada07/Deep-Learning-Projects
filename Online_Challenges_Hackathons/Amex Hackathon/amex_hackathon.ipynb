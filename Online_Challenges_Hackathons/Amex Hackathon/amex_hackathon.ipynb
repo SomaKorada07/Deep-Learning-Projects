{
 "cells": [
  {
   "cell_type": "markdown",
   "metadata": {},
   "source": [
    "# Amex Hackathon"
   ]
  },
  {
   "cell_type": "code",
   "execution_count": null,
   "metadata": {},
   "outputs": [],
   "source": [
    "# Importing the libraries\n",
    "import numpy as np\n",
    "import matplotlib.pyplot as plt\n",
    "import pandas as pd\n",
    "import seaborn as sns\n",
    "%matplotlib inline"
   ]
  },
  {
   "cell_type": "markdown",
   "metadata": {},
   "source": [
    "You are hired as a consultant to build an efficient model to predict whether a user will click on an ad or not, given the following features:\n",
    "* Clickstream data/train data for duration: (2nd July 2017 – 7th July 2017)\n",
    "* Test data for duration: (8th July 2017 – 9th July 2017)\n",
    "* User features (demographics, user behaviour/activity, buying power etc.)\n",
    "* Historical transactional data of the previous month with timestamp info (28th May 2017– 1st July 2017). This data contains actions (views/interest registered) taken by the user historically on the product page via an ad or other sources\n",
    "* Ad features (product category, webpage, campaign for ad etc.)\n",
    "* Date time features (exact timestamp of the user session)"
   ]
  },
  {
   "cell_type": "markdown",
   "metadata": {},
   "source": [
    "Train Data\n",
    "\n",
    "* session_id\tUnique ID for a session\n",
    "* DateTime\tTimestamp\n",
    "* user_id\tUnique ID for user\n",
    "* product\tProduct ID\n",
    "* campaign_id\tUnique ID for ad campaign\n",
    "* webpage_id\tWebpage ID at which the ad is displayed\n",
    "* product_category_1\tProduct category 1 (Ordered)\n",
    "* product_category_2\tProduct category 2\n",
    "* user_group_id\tCustomer segmentation ID\n",
    "* gender\tGender of the user\n",
    "* age_level\tAge level of the user\n",
    "* user_depth\tInteraction level of user with the web platform (1 - low, 2 - medium, 3 - High)\n",
    "* city_development_index\tScaled development index of the residence city\n",
    "* var_1\tAnonymised session feature\n",
    "* is_click\t0 - no click, 1 - click  \n",
    "\n",
    "Historical User logs\n",
    "\n",
    "* Variable\tDefinition\n",
    "* DateTime\tTimestamp\n",
    "* user_id\tUnique ID for the user\n",
    "* product\tProduct ID\n",
    "* action\tview/interest (view - viewed the product page, interest - registered interest for the product)"
   ]
  },
  {
   "cell_type": "code",
   "execution_count": 2,
   "metadata": {},
   "outputs": [
    {
     "data": {
      "text/html": [
       "<div>\n",
       "<style scoped>\n",
       "    .dataframe tbody tr th:only-of-type {\n",
       "        vertical-align: middle;\n",
       "    }\n",
       "\n",
       "    .dataframe tbody tr th {\n",
       "        vertical-align: top;\n",
       "    }\n",
       "\n",
       "    .dataframe thead th {\n",
       "        text-align: right;\n",
       "    }\n",
       "</style>\n",
       "<table border=\"1\" class=\"dataframe\">\n",
       "  <thead>\n",
       "    <tr style=\"text-align: right;\">\n",
       "      <th></th>\n",
       "      <th>session_id</th>\n",
       "      <th>DateTime</th>\n",
       "      <th>user_id</th>\n",
       "      <th>product</th>\n",
       "      <th>campaign_id</th>\n",
       "      <th>webpage_id</th>\n",
       "      <th>product_category_1</th>\n",
       "      <th>product_category_2</th>\n",
       "      <th>user_group_id</th>\n",
       "      <th>gender</th>\n",
       "      <th>age_level</th>\n",
       "      <th>user_depth</th>\n",
       "      <th>city_development_index</th>\n",
       "      <th>var_1</th>\n",
       "      <th>is_click</th>\n",
       "    </tr>\n",
       "  </thead>\n",
       "  <tbody>\n",
       "    <tr>\n",
       "      <th>0</th>\n",
       "      <td>140690</td>\n",
       "      <td>2017-07-02 00:00</td>\n",
       "      <td>858557</td>\n",
       "      <td>C</td>\n",
       "      <td>359520</td>\n",
       "      <td>13787</td>\n",
       "      <td>4</td>\n",
       "      <td>NaN</td>\n",
       "      <td>10.0</td>\n",
       "      <td>Female</td>\n",
       "      <td>4.0</td>\n",
       "      <td>3.0</td>\n",
       "      <td>3.0</td>\n",
       "      <td>0</td>\n",
       "      <td>0</td>\n",
       "    </tr>\n",
       "    <tr>\n",
       "      <th>1</th>\n",
       "      <td>333291</td>\n",
       "      <td>2017-07-02 00:00</td>\n",
       "      <td>243253</td>\n",
       "      <td>C</td>\n",
       "      <td>105960</td>\n",
       "      <td>11085</td>\n",
       "      <td>5</td>\n",
       "      <td>NaN</td>\n",
       "      <td>8.0</td>\n",
       "      <td>Female</td>\n",
       "      <td>2.0</td>\n",
       "      <td>2.0</td>\n",
       "      <td>NaN</td>\n",
       "      <td>0</td>\n",
       "      <td>0</td>\n",
       "    </tr>\n",
       "    <tr>\n",
       "      <th>2</th>\n",
       "      <td>129781</td>\n",
       "      <td>2017-07-02 00:00</td>\n",
       "      <td>243253</td>\n",
       "      <td>C</td>\n",
       "      <td>359520</td>\n",
       "      <td>13787</td>\n",
       "      <td>4</td>\n",
       "      <td>NaN</td>\n",
       "      <td>8.0</td>\n",
       "      <td>Female</td>\n",
       "      <td>2.0</td>\n",
       "      <td>2.0</td>\n",
       "      <td>NaN</td>\n",
       "      <td>0</td>\n",
       "      <td>0</td>\n",
       "    </tr>\n",
       "    <tr>\n",
       "      <th>3</th>\n",
       "      <td>464848</td>\n",
       "      <td>2017-07-02 00:00</td>\n",
       "      <td>1097446</td>\n",
       "      <td>I</td>\n",
       "      <td>359520</td>\n",
       "      <td>13787</td>\n",
       "      <td>3</td>\n",
       "      <td>NaN</td>\n",
       "      <td>3.0</td>\n",
       "      <td>Male</td>\n",
       "      <td>3.0</td>\n",
       "      <td>3.0</td>\n",
       "      <td>2.0</td>\n",
       "      <td>1</td>\n",
       "      <td>0</td>\n",
       "    </tr>\n",
       "    <tr>\n",
       "      <th>4</th>\n",
       "      <td>90569</td>\n",
       "      <td>2017-07-02 00:01</td>\n",
       "      <td>663656</td>\n",
       "      <td>C</td>\n",
       "      <td>405490</td>\n",
       "      <td>60305</td>\n",
       "      <td>3</td>\n",
       "      <td>NaN</td>\n",
       "      <td>2.0</td>\n",
       "      <td>Male</td>\n",
       "      <td>2.0</td>\n",
       "      <td>3.0</td>\n",
       "      <td>2.0</td>\n",
       "      <td>1</td>\n",
       "      <td>0</td>\n",
       "    </tr>\n",
       "  </tbody>\n",
       "</table>\n",
       "</div>"
      ],
      "text/plain": [
       "   session_id          DateTime  user_id product  campaign_id  webpage_id  \\\n",
       "0      140690  2017-07-02 00:00   858557       C       359520       13787   \n",
       "1      333291  2017-07-02 00:00   243253       C       105960       11085   \n",
       "2      129781  2017-07-02 00:00   243253       C       359520       13787   \n",
       "3      464848  2017-07-02 00:00  1097446       I       359520       13787   \n",
       "4       90569  2017-07-02 00:01   663656       C       405490       60305   \n",
       "\n",
       "   product_category_1  product_category_2  user_group_id  gender  age_level  \\\n",
       "0                   4                 NaN           10.0  Female        4.0   \n",
       "1                   5                 NaN            8.0  Female        2.0   \n",
       "2                   4                 NaN            8.0  Female        2.0   \n",
       "3                   3                 NaN            3.0    Male        3.0   \n",
       "4                   3                 NaN            2.0    Male        2.0   \n",
       "\n",
       "   user_depth  city_development_index  var_1  is_click  \n",
       "0         3.0                     3.0      0         0  \n",
       "1         2.0                     NaN      0         0  \n",
       "2         2.0                     NaN      0         0  \n",
       "3         3.0                     2.0      1         0  \n",
       "4         3.0                     2.0      1         0  "
      ]
     },
     "execution_count": 2,
     "metadata": {},
     "output_type": "execute_result"
    }
   ],
   "source": [
    "#Reading the train csv data\n",
    "train= pd.read_csv('train_amex/train.csv')\n",
    "train.head()"
   ]
  },
  {
   "cell_type": "code",
   "execution_count": 3,
   "metadata": {},
   "outputs": [
    {
     "data": {
      "text/html": [
       "<div>\n",
       "<style scoped>\n",
       "    .dataframe tbody tr th:only-of-type {\n",
       "        vertical-align: middle;\n",
       "    }\n",
       "\n",
       "    .dataframe tbody tr th {\n",
       "        vertical-align: top;\n",
       "    }\n",
       "\n",
       "    .dataframe thead th {\n",
       "        text-align: right;\n",
       "    }\n",
       "</style>\n",
       "<table border=\"1\" class=\"dataframe\">\n",
       "  <thead>\n",
       "    <tr style=\"text-align: right;\">\n",
       "      <th></th>\n",
       "      <th>DateTime</th>\n",
       "      <th>user_id</th>\n",
       "      <th>product</th>\n",
       "      <th>action</th>\n",
       "    </tr>\n",
       "  </thead>\n",
       "  <tbody>\n",
       "    <tr>\n",
       "      <th>0</th>\n",
       "      <td>2017-05-28 15:44</td>\n",
       "      <td>704</td>\n",
       "      <td>B</td>\n",
       "      <td>view</td>\n",
       "    </tr>\n",
       "    <tr>\n",
       "      <th>1</th>\n",
       "      <td>2017-05-29 07:08</td>\n",
       "      <td>499679</td>\n",
       "      <td>F</td>\n",
       "      <td>view</td>\n",
       "    </tr>\n",
       "    <tr>\n",
       "      <th>2</th>\n",
       "      <td>2017-05-29 07:10</td>\n",
       "      <td>499679</td>\n",
       "      <td>G</td>\n",
       "      <td>view</td>\n",
       "    </tr>\n",
       "    <tr>\n",
       "      <th>3</th>\n",
       "      <td>2017-05-29 07:10</td>\n",
       "      <td>499679</td>\n",
       "      <td>G</td>\n",
       "      <td>view</td>\n",
       "    </tr>\n",
       "    <tr>\n",
       "      <th>4</th>\n",
       "      <td>2017-05-29 07:10</td>\n",
       "      <td>499679</td>\n",
       "      <td>G</td>\n",
       "      <td>view</td>\n",
       "    </tr>\n",
       "  </tbody>\n",
       "</table>\n",
       "</div>"
      ],
      "text/plain": [
       "           DateTime  user_id product action\n",
       "0  2017-05-28 15:44      704       B   view\n",
       "1  2017-05-29 07:08   499679       F   view\n",
       "2  2017-05-29 07:10   499679       G   view\n",
       "3  2017-05-29 07:10   499679       G   view\n",
       "4  2017-05-29 07:10   499679       G   view"
      ]
     },
     "execution_count": 3,
     "metadata": {},
     "output_type": "execute_result"
    }
   ],
   "source": [
    "#Reading the historical csv data\n",
    "history= pd.read_csv('train_amex/historical_user_logs.csv')\n",
    "history.head()"
   ]
  },
  {
   "cell_type": "code",
   "execution_count": 4,
   "metadata": {},
   "outputs": [
    {
     "name": "stdout",
     "output_type": "stream",
     "text": [
      "<class 'pandas.core.frame.DataFrame'>\n",
      "RangeIndex: 24287534 entries, 0 to 24287533\n",
      "Data columns (total 4 columns):\n",
      "DateTime    object\n",
      "user_id     int64\n",
      "product     object\n",
      "action      object\n",
      "dtypes: int64(1), object(3)\n",
      "memory usage: 741.2+ MB\n"
     ]
    }
   ],
   "source": [
    "history.info()"
   ]
  },
  {
   "cell_type": "code",
   "execution_count": 5,
   "metadata": {},
   "outputs": [
    {
     "data": {
      "text/plain": [
       "171309"
      ]
     },
     "execution_count": 5,
     "metadata": {},
     "output_type": "execute_result"
    }
   ],
   "source": [
    "history['user_id'].nunique()"
   ]
  },
  {
   "cell_type": "code",
   "execution_count": 6,
   "metadata": {},
   "outputs": [
    {
     "data": {
      "text/html": [
       "<div>\n",
       "<style scoped>\n",
       "    .dataframe tbody tr th:only-of-type {\n",
       "        vertical-align: middle;\n",
       "    }\n",
       "\n",
       "    .dataframe tbody tr th {\n",
       "        vertical-align: top;\n",
       "    }\n",
       "\n",
       "    .dataframe thead th {\n",
       "        text-align: right;\n",
       "    }\n",
       "</style>\n",
       "<table border=\"1\" class=\"dataframe\">\n",
       "  <thead>\n",
       "    <tr style=\"text-align: right;\">\n",
       "      <th></th>\n",
       "      <th>DateTime</th>\n",
       "      <th>user_id</th>\n",
       "      <th>product</th>\n",
       "      <th>action</th>\n",
       "    </tr>\n",
       "  </thead>\n",
       "  <tbody>\n",
       "    <tr>\n",
       "      <th>0</th>\n",
       "      <td>2017-05-28 15:44</td>\n",
       "      <td>704</td>\n",
       "      <td>B</td>\n",
       "      <td>view</td>\n",
       "    </tr>\n",
       "    <tr>\n",
       "      <th>8088465</th>\n",
       "      <td>2017-06-22 18:20</td>\n",
       "      <td>704</td>\n",
       "      <td>C</td>\n",
       "      <td>view</td>\n",
       "    </tr>\n",
       "    <tr>\n",
       "      <th>8088995</th>\n",
       "      <td>2017-06-22 18:21</td>\n",
       "      <td>704</td>\n",
       "      <td>C</td>\n",
       "      <td>view</td>\n",
       "    </tr>\n",
       "    <tr>\n",
       "      <th>11609282</th>\n",
       "      <td>2017-06-25 07:24</td>\n",
       "      <td>704</td>\n",
       "      <td>C</td>\n",
       "      <td>view</td>\n",
       "    </tr>\n",
       "    <tr>\n",
       "      <th>11611459</th>\n",
       "      <td>2017-06-25 07:26</td>\n",
       "      <td>704</td>\n",
       "      <td>C</td>\n",
       "      <td>view</td>\n",
       "    </tr>\n",
       "    <tr>\n",
       "      <th>13540466</th>\n",
       "      <td>2017-06-26 10:05</td>\n",
       "      <td>704</td>\n",
       "      <td>H</td>\n",
       "      <td>view</td>\n",
       "    </tr>\n",
       "    <tr>\n",
       "      <th>13545142</th>\n",
       "      <td>2017-06-26 10:08</td>\n",
       "      <td>704</td>\n",
       "      <td>H</td>\n",
       "      <td>view</td>\n",
       "    </tr>\n",
       "    <tr>\n",
       "      <th>14219927</th>\n",
       "      <td>2017-06-26 17:18</td>\n",
       "      <td>704</td>\n",
       "      <td>C</td>\n",
       "      <td>view</td>\n",
       "    </tr>\n",
       "    <tr>\n",
       "      <th>14227093</th>\n",
       "      <td>2017-06-26 17:22</td>\n",
       "      <td>704</td>\n",
       "      <td>C</td>\n",
       "      <td>view</td>\n",
       "    </tr>\n",
       "    <tr>\n",
       "      <th>15903192</th>\n",
       "      <td>2017-06-27 15:20</td>\n",
       "      <td>704</td>\n",
       "      <td>G</td>\n",
       "      <td>view</td>\n",
       "    </tr>\n",
       "    <tr>\n",
       "      <th>23343931</th>\n",
       "      <td>2017-07-01 14:13</td>\n",
       "      <td>704</td>\n",
       "      <td>H</td>\n",
       "      <td>view</td>\n",
       "    </tr>\n",
       "    <tr>\n",
       "      <th>23344123</th>\n",
       "      <td>2017-07-01 14:13</td>\n",
       "      <td>704</td>\n",
       "      <td>H</td>\n",
       "      <td>view</td>\n",
       "    </tr>\n",
       "    <tr>\n",
       "      <th>23359148</th>\n",
       "      <td>2017-07-01 14:22</td>\n",
       "      <td>704</td>\n",
       "      <td>C</td>\n",
       "      <td>view</td>\n",
       "    </tr>\n",
       "    <tr>\n",
       "      <th>23404258</th>\n",
       "      <td>2017-07-01 14:52</td>\n",
       "      <td>704</td>\n",
       "      <td>C</td>\n",
       "      <td>view</td>\n",
       "    </tr>\n",
       "    <tr>\n",
       "      <th>24273972</th>\n",
       "      <td>2017-07-01 23:24</td>\n",
       "      <td>704</td>\n",
       "      <td>B</td>\n",
       "      <td>view</td>\n",
       "    </tr>\n",
       "    <tr>\n",
       "      <th>24274087</th>\n",
       "      <td>2017-07-01 23:24</td>\n",
       "      <td>704</td>\n",
       "      <td>B</td>\n",
       "      <td>view</td>\n",
       "    </tr>\n",
       "    <tr>\n",
       "      <th>24274159</th>\n",
       "      <td>2017-07-01 23:24</td>\n",
       "      <td>704</td>\n",
       "      <td>B</td>\n",
       "      <td>view</td>\n",
       "    </tr>\n",
       "    <tr>\n",
       "      <th>24274273</th>\n",
       "      <td>2017-07-01 23:25</td>\n",
       "      <td>704</td>\n",
       "      <td>B</td>\n",
       "      <td>view</td>\n",
       "    </tr>\n",
       "    <tr>\n",
       "      <th>24274322</th>\n",
       "      <td>2017-07-01 23:25</td>\n",
       "      <td>704</td>\n",
       "      <td>B</td>\n",
       "      <td>view</td>\n",
       "    </tr>\n",
       "    <tr>\n",
       "      <th>24274574</th>\n",
       "      <td>2017-07-01 23:25</td>\n",
       "      <td>704</td>\n",
       "      <td>B</td>\n",
       "      <td>view</td>\n",
       "    </tr>\n",
       "    <tr>\n",
       "      <th>24275529</th>\n",
       "      <td>2017-07-01 23:27</td>\n",
       "      <td>704</td>\n",
       "      <td>B</td>\n",
       "      <td>view</td>\n",
       "    </tr>\n",
       "    <tr>\n",
       "      <th>24275705</th>\n",
       "      <td>2017-07-01 23:28</td>\n",
       "      <td>704</td>\n",
       "      <td>B</td>\n",
       "      <td>view</td>\n",
       "    </tr>\n",
       "    <tr>\n",
       "      <th>24275799</th>\n",
       "      <td>2017-07-01 23:28</td>\n",
       "      <td>704</td>\n",
       "      <td>B</td>\n",
       "      <td>view</td>\n",
       "    </tr>\n",
       "    <tr>\n",
       "      <th>24275906</th>\n",
       "      <td>2017-07-01 23:28</td>\n",
       "      <td>704</td>\n",
       "      <td>H</td>\n",
       "      <td>view</td>\n",
       "    </tr>\n",
       "    <tr>\n",
       "      <th>24275979</th>\n",
       "      <td>2017-07-01 23:28</td>\n",
       "      <td>704</td>\n",
       "      <td>H</td>\n",
       "      <td>view</td>\n",
       "    </tr>\n",
       "    <tr>\n",
       "      <th>24277639</th>\n",
       "      <td>2017-07-01 23:32</td>\n",
       "      <td>704</td>\n",
       "      <td>B</td>\n",
       "      <td>view</td>\n",
       "    </tr>\n",
       "    <tr>\n",
       "      <th>24277770</th>\n",
       "      <td>2017-07-01 23:32</td>\n",
       "      <td>704</td>\n",
       "      <td>B</td>\n",
       "      <td>view</td>\n",
       "    </tr>\n",
       "    <tr>\n",
       "      <th>24278081</th>\n",
       "      <td>2017-07-01 23:33</td>\n",
       "      <td>704</td>\n",
       "      <td>B</td>\n",
       "      <td>view</td>\n",
       "    </tr>\n",
       "  </tbody>\n",
       "</table>\n",
       "</div>"
      ],
      "text/plain": [
       "                  DateTime  user_id product action\n",
       "0         2017-05-28 15:44      704       B   view\n",
       "8088465   2017-06-22 18:20      704       C   view\n",
       "8088995   2017-06-22 18:21      704       C   view\n",
       "11609282  2017-06-25 07:24      704       C   view\n",
       "11611459  2017-06-25 07:26      704       C   view\n",
       "13540466  2017-06-26 10:05      704       H   view\n",
       "13545142  2017-06-26 10:08      704       H   view\n",
       "14219927  2017-06-26 17:18      704       C   view\n",
       "14227093  2017-06-26 17:22      704       C   view\n",
       "15903192  2017-06-27 15:20      704       G   view\n",
       "23343931  2017-07-01 14:13      704       H   view\n",
       "23344123  2017-07-01 14:13      704       H   view\n",
       "23359148  2017-07-01 14:22      704       C   view\n",
       "23404258  2017-07-01 14:52      704       C   view\n",
       "24273972  2017-07-01 23:24      704       B   view\n",
       "24274087  2017-07-01 23:24      704       B   view\n",
       "24274159  2017-07-01 23:24      704       B   view\n",
       "24274273  2017-07-01 23:25      704       B   view\n",
       "24274322  2017-07-01 23:25      704       B   view\n",
       "24274574  2017-07-01 23:25      704       B   view\n",
       "24275529  2017-07-01 23:27      704       B   view\n",
       "24275705  2017-07-01 23:28      704       B   view\n",
       "24275799  2017-07-01 23:28      704       B   view\n",
       "24275906  2017-07-01 23:28      704       H   view\n",
       "24275979  2017-07-01 23:28      704       H   view\n",
       "24277639  2017-07-01 23:32      704       B   view\n",
       "24277770  2017-07-01 23:32      704       B   view\n",
       "24278081  2017-07-01 23:33      704       B   view"
      ]
     },
     "execution_count": 6,
     "metadata": {},
     "output_type": "execute_result"
    }
   ],
   "source": [
    "history[history['user_id'] == 704]"
   ]
  },
  {
   "cell_type": "code",
   "execution_count": 7,
   "metadata": {},
   "outputs": [
    {
     "data": {
      "text/plain": [
       "150347"
      ]
     },
     "execution_count": 7,
     "metadata": {},
     "output_type": "execute_result"
    }
   ],
   "source": [
    "train['user_id'].nunique()"
   ]
  },
  {
   "cell_type": "code",
   "execution_count": 8,
   "metadata": {},
   "outputs": [
    {
     "data": {
      "text/plain": [
       "False"
      ]
     },
     "execution_count": 8,
     "metadata": {},
     "output_type": "execute_result"
    }
   ],
   "source": [
    "train['user_id'].isin(history['user_id']).all()"
   ]
  },
  {
   "cell_type": "code",
   "execution_count": 9,
   "metadata": {},
   "outputs": [
    {
     "data": {
      "text/html": [
       "<div>\n",
       "<style scoped>\n",
       "    .dataframe tbody tr th:only-of-type {\n",
       "        vertical-align: middle;\n",
       "    }\n",
       "\n",
       "    .dataframe tbody tr th {\n",
       "        vertical-align: top;\n",
       "    }\n",
       "\n",
       "    .dataframe thead th {\n",
       "        text-align: right;\n",
       "    }\n",
       "</style>\n",
       "<table border=\"1\" class=\"dataframe\">\n",
       "  <thead>\n",
       "    <tr style=\"text-align: right;\">\n",
       "      <th></th>\n",
       "      <th>session_id</th>\n",
       "      <th>DateTime</th>\n",
       "      <th>user_id</th>\n",
       "      <th>product</th>\n",
       "      <th>campaign_id</th>\n",
       "      <th>webpage_id</th>\n",
       "      <th>product_category_1</th>\n",
       "      <th>product_category_2</th>\n",
       "      <th>user_group_id</th>\n",
       "      <th>gender</th>\n",
       "      <th>age_level</th>\n",
       "      <th>user_depth</th>\n",
       "      <th>city_development_index</th>\n",
       "      <th>var_1</th>\n",
       "      <th>is_click</th>\n",
       "    </tr>\n",
       "  </thead>\n",
       "  <tbody>\n",
       "    <tr>\n",
       "      <th>124108</th>\n",
       "      <td>9204</td>\n",
       "      <td>2017-07-03 14:06</td>\n",
       "      <td>704</td>\n",
       "      <td>I</td>\n",
       "      <td>105960</td>\n",
       "      <td>11085</td>\n",
       "      <td>2</td>\n",
       "      <td>270915.0</td>\n",
       "      <td>3.0</td>\n",
       "      <td>Male</td>\n",
       "      <td>3.0</td>\n",
       "      <td>3.0</td>\n",
       "      <td>4.0</td>\n",
       "      <td>0</td>\n",
       "      <td>0</td>\n",
       "    </tr>\n",
       "    <tr>\n",
       "      <th>145618</th>\n",
       "      <td>107956</td>\n",
       "      <td>2017-07-03 19:20</td>\n",
       "      <td>704</td>\n",
       "      <td>C</td>\n",
       "      <td>405490</td>\n",
       "      <td>60305</td>\n",
       "      <td>3</td>\n",
       "      <td>NaN</td>\n",
       "      <td>3.0</td>\n",
       "      <td>Male</td>\n",
       "      <td>3.0</td>\n",
       "      <td>3.0</td>\n",
       "      <td>4.0</td>\n",
       "      <td>0</td>\n",
       "      <td>0</td>\n",
       "    </tr>\n",
       "    <tr>\n",
       "      <th>189651</th>\n",
       "      <td>172634</td>\n",
       "      <td>2017-07-04 13:24</td>\n",
       "      <td>704</td>\n",
       "      <td>C</td>\n",
       "      <td>359520</td>\n",
       "      <td>13787</td>\n",
       "      <td>4</td>\n",
       "      <td>NaN</td>\n",
       "      <td>3.0</td>\n",
       "      <td>Male</td>\n",
       "      <td>3.0</td>\n",
       "      <td>3.0</td>\n",
       "      <td>4.0</td>\n",
       "      <td>0</td>\n",
       "      <td>0</td>\n",
       "    </tr>\n",
       "    <tr>\n",
       "      <th>291248</th>\n",
       "      <td>128080</td>\n",
       "      <td>2017-07-05 18:31</td>\n",
       "      <td>704</td>\n",
       "      <td>C</td>\n",
       "      <td>359520</td>\n",
       "      <td>13787</td>\n",
       "      <td>4</td>\n",
       "      <td>NaN</td>\n",
       "      <td>3.0</td>\n",
       "      <td>Male</td>\n",
       "      <td>3.0</td>\n",
       "      <td>3.0</td>\n",
       "      <td>4.0</td>\n",
       "      <td>0</td>\n",
       "      <td>0</td>\n",
       "    </tr>\n",
       "    <tr>\n",
       "      <th>339802</th>\n",
       "      <td>107964</td>\n",
       "      <td>2017-07-06 10:53</td>\n",
       "      <td>704</td>\n",
       "      <td>C</td>\n",
       "      <td>405490</td>\n",
       "      <td>60305</td>\n",
       "      <td>3</td>\n",
       "      <td>NaN</td>\n",
       "      <td>3.0</td>\n",
       "      <td>Male</td>\n",
       "      <td>3.0</td>\n",
       "      <td>3.0</td>\n",
       "      <td>4.0</td>\n",
       "      <td>0</td>\n",
       "      <td>1</td>\n",
       "    </tr>\n",
       "    <tr>\n",
       "      <th>339804</th>\n",
       "      <td>458499</td>\n",
       "      <td>2017-07-06 10:53</td>\n",
       "      <td>704</td>\n",
       "      <td>C</td>\n",
       "      <td>360936</td>\n",
       "      <td>13787</td>\n",
       "      <td>3</td>\n",
       "      <td>NaN</td>\n",
       "      <td>3.0</td>\n",
       "      <td>Male</td>\n",
       "      <td>3.0</td>\n",
       "      <td>3.0</td>\n",
       "      <td>4.0</td>\n",
       "      <td>0</td>\n",
       "      <td>0</td>\n",
       "    </tr>\n",
       "  </tbody>\n",
       "</table>\n",
       "</div>"
      ],
      "text/plain": [
       "        session_id          DateTime  user_id product  campaign_id  \\\n",
       "124108        9204  2017-07-03 14:06      704       I       105960   \n",
       "145618      107956  2017-07-03 19:20      704       C       405490   \n",
       "189651      172634  2017-07-04 13:24      704       C       359520   \n",
       "291248      128080  2017-07-05 18:31      704       C       359520   \n",
       "339802      107964  2017-07-06 10:53      704       C       405490   \n",
       "339804      458499  2017-07-06 10:53      704       C       360936   \n",
       "\n",
       "        webpage_id  product_category_1  product_category_2  user_group_id  \\\n",
       "124108       11085                   2            270915.0            3.0   \n",
       "145618       60305                   3                 NaN            3.0   \n",
       "189651       13787                   4                 NaN            3.0   \n",
       "291248       13787                   4                 NaN            3.0   \n",
       "339802       60305                   3                 NaN            3.0   \n",
       "339804       13787                   3                 NaN            3.0   \n",
       "\n",
       "       gender  age_level  user_depth  city_development_index  var_1  is_click  \n",
       "124108   Male        3.0         3.0                     4.0      0         0  \n",
       "145618   Male        3.0         3.0                     4.0      0         0  \n",
       "189651   Male        3.0         3.0                     4.0      0         0  \n",
       "291248   Male        3.0         3.0                     4.0      0         0  \n",
       "339802   Male        3.0         3.0                     4.0      0         1  \n",
       "339804   Male        3.0         3.0                     4.0      0         0  "
      ]
     },
     "execution_count": 9,
     "metadata": {},
     "output_type": "execute_result"
    }
   ],
   "source": [
    "train[train['user_id'] == 704]"
   ]
  },
  {
   "cell_type": "markdown",
   "metadata": {},
   "source": [
    "#### Train set users less than History data. and not all users in history are there. There are new users too."
   ]
  },
  {
   "cell_type": "markdown",
   "metadata": {},
   "source": [
    "## Let's visualize Historical data "
   ]
  },
  {
   "cell_type": "code",
   "execution_count": 10,
   "metadata": {},
   "outputs": [],
   "source": [
    "#We will change the datetime object\n",
    "history['DateTime']=pd.to_datetime(history['DateTime'])"
   ]
  },
  {
   "cell_type": "code",
   "execution_count": 11,
   "metadata": {},
   "outputs": [],
   "source": [
    "#Now we shall introduce new columns Hour,Day of Week from timestamp\n",
    "history['Hour']=history['DateTime'].apply(lambda time : time.hour)\n",
    "history['DayofWeek'] = history['DateTime'].apply(lambda time : time.dayofweek)"
   ]
  },
  {
   "cell_type": "code",
   "execution_count": 12,
   "metadata": {},
   "outputs": [
    {
     "data": {
      "text/plain": [
       "Text(0.5, 1.0, 'Action hourly distribution of viewing')"
      ]
     },
     "execution_count": 12,
     "metadata": {},
     "output_type": "execute_result"
    },
    {
     "data": {
      "image/png": "[encoded data removed]",
      "text/plain": [
       "<Figure size 1080x432 with 1 Axes>"
      ]
     },
     "metadata": {
      "needs_background": "light"
     },
     "output_type": "display_data"
    }
   ],
   "source": [
    "#Hourly distribution of action\n",
    "plt.figure(figsize=(15,6))\n",
    "sns.countplot(x='Hour',data=history[history['action']=='view'],hue='product',palette='rainbow')\n",
    "plt.title('Action hourly distribution of viewing')"
   ]
  },
  {
   "cell_type": "markdown",
   "metadata": {},
   "source": [
    "#### Inference:\n",
    "* 6-8 pm are the most viewing peak time\n",
    "* product H is the most viewed one followed by product B.\n",
    "* 10pm -5 am is least period of action\n",
    "* There is slight dip in between 2-4 pm"
   ]
  },
  {
   "cell_type": "code",
   "execution_count": 13,
   "metadata": {},
   "outputs": [
    {
     "data": {
      "text/plain": [
       "Text(0.5, 1.0, 'Action hourly distribution of interest')"
      ]
     },
     "execution_count": 13,
     "metadata": {},
     "output_type": "execute_result"
    },
    {
     "data": {
      "image/png": "[encoded data removed]",
      "text/plain": [
       "<Figure size 1080x432 with 1 Axes>"
      ]
     },
     "metadata": {
      "needs_background": "light"
     },
     "output_type": "display_data"
    }
   ],
   "source": [
    "#Hourly distribution of action\n",
    "plt.figure(figsize=(15,6))\n",
    "sns.countplot(x='Hour',data=history[history['action']=='interest'],hue='product',palette='rainbow')\n",
    "plt.title('Action hourly distribution of interest')"
   ]
  },
  {
   "cell_type": "markdown",
   "metadata": {},
   "source": [
    "#### Inference:\n",
    "* Follows the same trend as viewing. 6-8 pm are the most viewing peak time. This shows 'view' and 'interest' are highly related. \n",
    "* product B and H shows nearly same amount of interest \n",
    "* 10pm -5 am is least period of action\n",
    "* There is slight dip in between 2-4 pm"
   ]
  },
  {
   "cell_type": "code",
   "execution_count": 14,
   "metadata": {},
   "outputs": [
    {
     "data": {
      "text/plain": [
       "Text(0.5, 1.0, 'Action daily distribution of viewing')"
      ]
     },
     "execution_count": 14,
     "metadata": {},
     "output_type": "execute_result"
    },
    {
     "data": {
      "image/png": "[encoded data removed]",
      "text/plain": [
       "<Figure size 1080x432 with 1 Axes>"
      ]
     },
     "metadata": {
      "needs_background": "light"
     },
     "output_type": "display_data"
    }
   ],
   "source": [
    "#Daily distribution of action\n",
    "plt.figure(figsize=(15,6))\n",
    "sns.countplot(x='DayofWeek',data=history[history['action']=='view'],hue='product',palette='rainbow')\n",
    "plt.title('Action daily distribution of viewing')"
   ]
  },
  {
   "cell_type": "markdown",
   "metadata": {},
   "source": [
    "#### Inference\n",
    "* Nearly same distribution of viewing everyday\n",
    "* Product H are most viewed, followed by product B."
   ]
  },
  {
   "cell_type": "code",
   "execution_count": 15,
   "metadata": {},
   "outputs": [
    {
     "data": {
      "text/plain": [
       "Text(0.5, 1.0, 'Action daily distribution of interest')"
      ]
     },
     "execution_count": 15,
     "metadata": {},
     "output_type": "execute_result"
    },
    {
     "data": {
      "image/png": "[encoded data removed]",
      "text/plain": [
       "<Figure size 1080x432 with 1 Axes>"
      ]
     },
     "metadata": {
      "needs_background": "light"
     },
     "output_type": "display_data"
    }
   ],
   "source": [
    "#Daily distribution of action\n",
    "plt.figure(figsize=(15,6))\n",
    "sns.countplot(x='DayofWeek',data=history[history['action']=='interest'],hue='product',palette='rainbow')\n",
    "plt.title('Action daily distribution of interest')"
   ]
  },
  {
   "cell_type": "markdown",
   "metadata": {},
   "source": [
    "#### Inference\n",
    "* Nearly same distribution of viewing everyday\n",
    "* Product B and H shows nearly same amount of interest"
   ]
  },
  {
   "cell_type": "markdown",
   "metadata": {},
   "source": [
    "#### Insights from Historical data: \n",
    "* Hourly distribution describes the trends very neatly compared to  daily distribution\n",
    "* product B and H are most important ones.\n",
    "* 6-8pm are the peak hours.\n",
    "* there are new users in train data"
   ]
  },
  {
   "cell_type": "markdown",
   "metadata": {},
   "source": [
    "## Data Visualization of Training data"
   ]
  },
  {
   "cell_type": "code",
   "execution_count": 3,
   "metadata": {},
   "outputs": [
    {
     "name": "stdout",
     "output_type": "stream",
     "text": [
      "<class 'pandas.core.frame.DataFrame'>\n",
      "RangeIndex: 463291 entries, 0 to 463290\n",
      "Data columns (total 15 columns):\n",
      "session_id                463291 non-null int64\n",
      "DateTime                  463291 non-null object\n",
      "user_id                   463291 non-null int64\n",
      "product                   463291 non-null object\n",
      "campaign_id               463291 non-null int64\n",
      "webpage_id                463291 non-null int64\n",
      "product_category_1        463291 non-null int64\n",
      "product_category_2        97437 non-null float64\n",
      "user_group_id             445048 non-null float64\n",
      "gender                    445048 non-null object\n",
      "age_level                 445048 non-null float64\n",
      "user_depth                445048 non-null float64\n",
      "city_development_index    338162 non-null float64\n",
      "var_1                     463291 non-null int64\n",
      "is_click                  463291 non-null int64\n",
      "dtypes: float64(5), int64(7), object(3)\n",
      "memory usage: 53.0+ MB\n"
     ]
    }
   ],
   "source": [
    "train.info()"
   ]
  },
  {
   "cell_type": "code",
   "execution_count": 4,
   "metadata": {},
   "outputs": [
    {
     "data": {
      "text/plain": [
       "session_id                     0\n",
       "DateTime                       0\n",
       "user_id                        0\n",
       "product                        0\n",
       "campaign_id                    0\n",
       "webpage_id                     0\n",
       "product_category_1             0\n",
       "product_category_2        365854\n",
       "user_group_id              18243\n",
       "gender                     18243\n",
       "age_level                  18243\n",
       "user_depth                 18243\n",
       "city_development_index    125129\n",
       "var_1                          0\n",
       "is_click                       0\n",
       "dtype: int64"
      ]
     },
     "execution_count": 4,
     "metadata": {},
     "output_type": "execute_result"
    }
   ],
   "source": [
    "train.isnull().sum(axis = 0)"
   ]
  },
  {
   "cell_type": "code",
   "execution_count": 5,
   "metadata": {},
   "outputs": [],
   "source": [
    "#Let's take out the hours minutes day out of date time and drop the date time column\n",
    "train['DateTime']=pd.to_datetime(train['DateTime'])\n",
    "train['Hour']=train['DateTime'].apply(lambda time : time.hour)\n",
    "train['Minute']=train['DateTime'].apply(lambda time : time.minute)\n",
    "train['DayofWeek'] = train['DateTime'].apply(lambda time : time.dayofweek)\n",
    "train.drop(['DateTime'],axis=1,inplace=True)"
   ]
  },
  {
   "cell_type": "code",
   "execution_count": 6,
   "metadata": {},
   "outputs": [
    {
     "data": {
      "text/html": [
       "<div>\n",
       "<style scoped>\n",
       "    .dataframe tbody tr th:only-of-type {\n",
       "        vertical-align: middle;\n",
       "    }\n",
       "\n",
       "    .dataframe tbody tr th {\n",
       "        vertical-align: top;\n",
       "    }\n",
       "\n",
       "    .dataframe thead th {\n",
       "        text-align: right;\n",
       "    }\n",
       "</style>\n",
       "<table border=\"1\" class=\"dataframe\">\n",
       "  <thead>\n",
       "    <tr style=\"text-align: right;\">\n",
       "      <th></th>\n",
       "      <th>session_id</th>\n",
       "      <th>user_id</th>\n",
       "      <th>product</th>\n",
       "      <th>campaign_id</th>\n",
       "      <th>webpage_id</th>\n",
       "      <th>product_category_1</th>\n",
       "      <th>product_category_2</th>\n",
       "      <th>user_group_id</th>\n",
       "      <th>gender</th>\n",
       "      <th>age_level</th>\n",
       "      <th>user_depth</th>\n",
       "      <th>city_development_index</th>\n",
       "      <th>var_1</th>\n",
       "      <th>is_click</th>\n",
       "      <th>Hour</th>\n",
       "      <th>Minute</th>\n",
       "      <th>DayofWeek</th>\n",
       "    </tr>\n",
       "  </thead>\n",
       "  <tbody>\n",
       "    <tr>\n",
       "      <th>0</th>\n",
       "      <td>140690</td>\n",
       "      <td>858557</td>\n",
       "      <td>C</td>\n",
       "      <td>359520</td>\n",
       "      <td>13787</td>\n",
       "      <td>4</td>\n",
       "      <td>NaN</td>\n",
       "      <td>10.0</td>\n",
       "      <td>Female</td>\n",
       "      <td>4.0</td>\n",
       "      <td>3.0</td>\n",
       "      <td>3.0</td>\n",
       "      <td>0</td>\n",
       "      <td>0</td>\n",
       "      <td>0</td>\n",
       "      <td>0</td>\n",
       "      <td>6</td>\n",
       "    </tr>\n",
       "    <tr>\n",
       "      <th>1</th>\n",
       "      <td>333291</td>\n",
       "      <td>243253</td>\n",
       "      <td>C</td>\n",
       "      <td>105960</td>\n",
       "      <td>11085</td>\n",
       "      <td>5</td>\n",
       "      <td>NaN</td>\n",
       "      <td>8.0</td>\n",
       "      <td>Female</td>\n",
       "      <td>2.0</td>\n",
       "      <td>2.0</td>\n",
       "      <td>NaN</td>\n",
       "      <td>0</td>\n",
       "      <td>0</td>\n",
       "      <td>0</td>\n",
       "      <td>0</td>\n",
       "      <td>6</td>\n",
       "    </tr>\n",
       "    <tr>\n",
       "      <th>2</th>\n",
       "      <td>129781</td>\n",
       "      <td>243253</td>\n",
       "      <td>C</td>\n",
       "      <td>359520</td>\n",
       "      <td>13787</td>\n",
       "      <td>4</td>\n",
       "      <td>NaN</td>\n",
       "      <td>8.0</td>\n",
       "      <td>Female</td>\n",
       "      <td>2.0</td>\n",
       "      <td>2.0</td>\n",
       "      <td>NaN</td>\n",
       "      <td>0</td>\n",
       "      <td>0</td>\n",
       "      <td>0</td>\n",
       "      <td>0</td>\n",
       "      <td>6</td>\n",
       "    </tr>\n",
       "    <tr>\n",
       "      <th>3</th>\n",
       "      <td>464848</td>\n",
       "      <td>1097446</td>\n",
       "      <td>I</td>\n",
       "      <td>359520</td>\n",
       "      <td>13787</td>\n",
       "      <td>3</td>\n",
       "      <td>NaN</td>\n",
       "      <td>3.0</td>\n",
       "      <td>Male</td>\n",
       "      <td>3.0</td>\n",
       "      <td>3.0</td>\n",
       "      <td>2.0</td>\n",
       "      <td>1</td>\n",
       "      <td>0</td>\n",
       "      <td>0</td>\n",
       "      <td>0</td>\n",
       "      <td>6</td>\n",
       "    </tr>\n",
       "    <tr>\n",
       "      <th>4</th>\n",
       "      <td>90569</td>\n",
       "      <td>663656</td>\n",
       "      <td>C</td>\n",
       "      <td>405490</td>\n",
       "      <td>60305</td>\n",
       "      <td>3</td>\n",
       "      <td>NaN</td>\n",
       "      <td>2.0</td>\n",
       "      <td>Male</td>\n",
       "      <td>2.0</td>\n",
       "      <td>3.0</td>\n",
       "      <td>2.0</td>\n",
       "      <td>1</td>\n",
       "      <td>0</td>\n",
       "      <td>0</td>\n",
       "      <td>1</td>\n",
       "      <td>6</td>\n",
       "    </tr>\n",
       "  </tbody>\n",
       "</table>\n",
       "</div>"
      ],
      "text/plain": [
       "   session_id  user_id product  campaign_id  webpage_id  product_category_1  \\\n",
       "0      140690   858557       C       359520       13787                   4   \n",
       "1      333291   243253       C       105960       11085                   5   \n",
       "2      129781   243253       C       359520       13787                   4   \n",
       "3      464848  1097446       I       359520       13787                   3   \n",
       "4       90569   663656       C       405490       60305                   3   \n",
       "\n",
       "   product_category_2  user_group_id  gender  age_level  user_depth  \\\n",
       "0                 NaN           10.0  Female        4.0         3.0   \n",
       "1                 NaN            8.0  Female        2.0         2.0   \n",
       "2                 NaN            8.0  Female        2.0         2.0   \n",
       "3                 NaN            3.0    Male        3.0         3.0   \n",
       "4                 NaN            2.0    Male        2.0         3.0   \n",
       "\n",
       "   city_development_index  var_1  is_click  Hour  Minute  DayofWeek  \n",
       "0                     3.0      0         0     0       0          6  \n",
       "1                     NaN      0         0     0       0          6  \n",
       "2                     NaN      0         0     0       0          6  \n",
       "3                     2.0      1         0     0       0          6  \n",
       "4                     2.0      1         0     0       1          6  "
      ]
     },
     "execution_count": 6,
     "metadata": {},
     "output_type": "execute_result"
    }
   ],
   "source": [
    "train.head()"
   ]
  },
  {
   "cell_type": "markdown",
   "metadata": {},
   "source": [
    "### Let's view Clicked ad's distributions"
   ]
  },
  {
   "cell_type": "code",
   "execution_count": 7,
   "metadata": {},
   "outputs": [
    {
     "data": {
      "text/plain": [
       "Text(0.5, 1.0, ' gender distribution of products ad clicked')"
      ]
     },
     "execution_count": 7,
     "metadata": {},
     "output_type": "execute_result"
    },
    {
     "data": {
      "image/png": "[encoded data removed]",
      "text/plain": [
       "<Figure size 1080x432 with 1 Axes>"
      ]
     },
     "metadata": {
      "needs_background": "light"
     },
     "output_type": "display_data"
    }
   ],
   "source": [
    "# Gender distribution\n",
    "plt.figure(figsize=(15,6))\n",
    "sns.countplot(x='product',data=train[train['is_click']==1],hue='gender',palette='rainbow')\n",
    "plt.title(' gender distribution of products ad clicked')"
   ]
  },
  {
   "cell_type": "code",
   "execution_count": 8,
   "metadata": {},
   "outputs": [
    {
     "data": {
      "text/plain": [
       "Text(0.5, 1.0, 'Minute distribution of products ad clicked')"
      ]
     },
     "execution_count": 8,
     "metadata": {},
     "output_type": "execute_result"
    },
    {
     "data": {
      "image/png": "[encoded data removed]",
      "text/plain": [
       "<Figure size 1080x432 with 1 Axes>"
      ]
     },
     "metadata": {
      "needs_background": "light"
     },
     "output_type": "display_data"
    }
   ],
   "source": [
    "#Minute distribution\n",
    "plt.figure(figsize=(15,6))\n",
    "sns.countplot(x='Minute',data=train[train['is_click']==1],hue='product',palette='rainbow')\n",
    "plt.title('Minute distribution of products ad clicked')"
   ]
  },
  {
   "cell_type": "code",
   "execution_count": 16,
   "metadata": {},
   "outputs": [
    {
     "data": {
      "text/plain": [
       "Text(0.5, 1.0, 'Hourly distribution of products ad clicked')"
      ]
     },
     "execution_count": 16,
     "metadata": {},
     "output_type": "execute_result"
    },
    {
     "data": {
      "image/png": "[encoded data removed]",
      "text/plain": [
       "<Figure size 1080x432 with 1 Axes>"
      ]
     },
     "metadata": {
      "needs_background": "light"
     },
     "output_type": "display_data"
    }
   ],
   "source": [
    "#Hourly distribution\n",
    "plt.figure(figsize=(15,6))\n",
    "sns.countplot(x='Hour',data=train[train['is_click']==1],hue='product',palette='rainbow')\n",
    "plt.title('Hourly distribution of products ad clicked')"
   ]
  },
  {
   "cell_type": "code",
   "execution_count": 17,
   "metadata": {},
   "outputs": [
    {
     "data": {
      "text/plain": [
       "Text(0.5, 1.0, 'Action daily distribution of viewing')"
      ]
     },
     "execution_count": 17,
     "metadata": {},
     "output_type": "execute_result"
    },
    {
     "data": {
      "image/png": "[encoded data removed]",
      "text/plain": [
       "<Figure size 1080x432 with 1 Axes>"
      ]
     },
     "metadata": {
      "needs_background": "light"
     },
     "output_type": "display_data"
    }
   ],
   "source": [
    "#Daily distribution\n",
    "plt.figure(figsize=(15,6))\n",
    "sns.countplot(x='DayofWeek',data=train[train['is_click']==1],hue='product',palette='rainbow')\n",
    "plt.title('Action daily distribution of viewing')"
   ]
  },
  {
   "cell_type": "markdown",
   "metadata": {},
   "source": [
    "#### Inference\n",
    "* Males outnumber females for every product ads clicked \n",
    "* The Ads most clicked were of product C, followed by product H\n",
    "* The peak hours are 7-12am and then there is a dip and then again 7-8pm\n",
    "* Why in previous month customers showed less interest in product C comparatively, but this 5days they clicked on ads of product C the most? Is it due to new custmers?"
   ]
  },
  {
   "cell_type": "code",
   "execution_count": 18,
   "metadata": {},
   "outputs": [
    {
     "data": {
      "text/plain": [
       "145510"
      ]
     },
     "execution_count": 18,
     "metadata": {},
     "output_type": "execute_result"
    }
   ],
   "source": [
    "len(set(train['user_id']).intersection(set(history['user_id'])))"
   ]
  },
  {
   "cell_type": "markdown",
   "metadata": {},
   "source": [
    "#### Only 145510 out of 171309 in previous month are present this month (84.9%).\n",
    "#### Rest 4837 customers are new this month (3.2%)\n",
    "#### It would be wrong to say that only these new customers drove the rise in ad clicked for product C. But it might be nearly correct to say that 15% less customers showed a dip in interest for product H, but then why so much dip for product B? It seems that customers for product B have newly grown their interest for product C this new month."
   ]
  },
  {
   "cell_type": "code",
   "execution_count": 19,
   "metadata": {},
   "outputs": [
    {
     "data": {
      "text/plain": [
       "Text(0.5, 1.0, 'Campaign distribution of products ad clicked')"
      ]
     },
     "execution_count": 19,
     "metadata": {},
     "output_type": "execute_result"
    },
    {
     "data": {
      "image/png": "[encoded data removed]",
      "text/plain": [
       "<Figure size 1080x432 with 1 Axes>"
      ]
     },
     "metadata": {
      "needs_background": "light"
     },
     "output_type": "display_data"
    }
   ],
   "source": [
    "#Campaign_id distribution\n",
    "plt.figure(figsize=(15,6))\n",
    "sns.countplot(x='campaign_id',data=train[train['is_click']==1],hue='product',palette='rainbow')\n",
    "plt.title('Campaign distribution of products ad clicked')"
   ]
  },
  {
   "cell_type": "markdown",
   "metadata": {},
   "source": [
    "### Inference\n",
    "* For campaign id 405490 we observe a very distinctive amount of ads clicked for product C.\n",
    "* For campaign id 359520 we observe nearly same amount of ads clicked for product C ad H."
   ]
  },
  {
   "cell_type": "code",
   "execution_count": 20,
   "metadata": {},
   "outputs": [
    {
     "data": {
      "text/plain": [
       "Text(0.5, 1.0, 'Webpage Id distribution of products ad clicked')"
      ]
     },
     "execution_count": 20,
     "metadata": {},
     "output_type": "execute_result"
    },
    {
     "data": {
      "image/png": "[encoded data removed]",
      "text/plain": [
       "<Figure size 1080x432 with 1 Axes>"
      ]
     },
     "metadata": {
      "needs_background": "light"
     },
     "output_type": "display_data"
    }
   ],
   "source": [
    "#Webpage Id distribution\n",
    "plt.figure(figsize=(15,6))\n",
    "sns.countplot(x='webpage_id',data=train[train['is_click']==1],hue='product',palette='rainbow')\n",
    "plt.title('Webpage Id distribution of products ad clicked')"
   ]
  },
  {
   "cell_type": "markdown",
   "metadata": {},
   "source": [
    "### Inference\n",
    "* For webpage id 60305 we observe a very distinctive amount of ads clicked for product C.\n",
    "* For webpage id 13787 we observe nearly same amount of ads clicked for product C ad H.\n",
    "* It's clear that webpage id and campaign id distribution are simalar, this concludes that nearly every webpage id has distinctive campaign id, except for webpage id 13787 which has two campaign ids."
   ]
  },
  {
   "cell_type": "code",
   "execution_count": 22,
   "metadata": {},
   "outputs": [
    {
     "data": {
      "text/plain": [
       "Text(0.5, 1.0, 'Product Category 1 1distribution of products ad clicked')"
      ]
     },
     "execution_count": 22,
     "metadata": {},
     "output_type": "execute_result"
    },
    {
     "data": {
      "image/png": "[encoded data removed]",
      "text/plain": [
       "<Figure size 1080x432 with 1 Axes>"
      ]
     },
     "metadata": {
      "needs_background": "light"
     },
     "output_type": "display_data"
    }
   ],
   "source": [
    "#Product Category 1 distribution\n",
    "plt.figure(figsize=(15,6))\n",
    "sns.countplot(x='product_category_1',data=train[train['is_click']==1],hue='product',palette='rainbow')\n",
    "plt.title('Product Category 1 1distribution of products ad clicked')"
   ]
  },
  {
   "cell_type": "markdown",
   "metadata": {},
   "source": [
    "#### Inference\n",
    "* For product category 3 we see a very distinctive amount ads clicked for product C"
   ]
  },
  {
   "cell_type": "code",
   "execution_count": 23,
   "metadata": {},
   "outputs": [
    {
     "data": {
      "text/plain": [
       "Text(0.5, 1.0, 'Product Category 2 1distribution of products ad clicked')"
      ]
     },
     "execution_count": 23,
     "metadata": {},
     "output_type": "execute_result"
    },
    {
     "data": {
      "image/png": "[encoded data removed]",
      "text/plain": [
       "<Figure size 1080x432 with 1 Axes>"
      ]
     },
     "metadata": {
      "needs_background": "light"
     },
     "output_type": "display_data"
    }
   ],
   "source": [
    "#Product Category 2 distribution\n",
    "plt.figure(figsize=(15,6))\n",
    "sns.countplot(x='product_category_2',data=train[train['is_click']==1],hue='product',palette='rainbow')\n",
    "plt.title('Product Category 2 1distribution of products ad clicked')"
   ]
  },
  {
   "cell_type": "code",
   "execution_count": 24,
   "metadata": {},
   "outputs": [
    {
     "data": {
      "text/plain": [
       "Text(0.5, 1.0, ' User group id distribution of products ad clicked')"
      ]
     },
     "execution_count": 24,
     "metadata": {},
     "output_type": "execute_result"
    },
    {
     "data": {
      "image/png": "[encoded data removed]",
      "text/plain": [
       "<Figure size 1080x432 with 1 Axes>"
      ]
     },
     "metadata": {
      "needs_background": "light"
     },
     "output_type": "display_data"
    }
   ],
   "source": [
    "# User Group Id distribution\n",
    "plt.figure(figsize=(15,6))\n",
    "sns.countplot(x='user_group_id',data=train[train['is_click']==1],hue='product',palette='rainbow')\n",
    "plt.title(' User group id distribution of products ad clicked')"
   ]
  },
  {
   "cell_type": "markdown",
   "metadata": {},
   "source": [
    "#### Inference\n",
    "\n",
    "* User Group Id 2 and 3 are the most active ones on ad clicks."
   ]
  },
  {
   "cell_type": "code",
   "execution_count": 25,
   "metadata": {},
   "outputs": [
    {
     "data": {
      "text/plain": [
       "Text(0.5, 1.0, ' Age level distribution of products ad clicked')"
      ]
     },
     "execution_count": 25,
     "metadata": {},
     "output_type": "execute_result"
    },
    {
     "data": {
      "image/png": "[encoded data removed]",
      "text/plain": [
       "<Figure size 1080x432 with 1 Axes>"
      ]
     },
     "metadata": {
      "needs_background": "light"
     },
     "output_type": "display_data"
    }
   ],
   "source": [
    "# Age level distribution\n",
    "plt.figure(figsize=(15,6))\n",
    "sns.countplot(x='age_level',data=train[train['is_click']==1],hue='product',palette='rainbow')\n",
    "plt.title(' Age level distribution of products ad clicked')"
   ]
  },
  {
   "cell_type": "markdown",
   "metadata": {},
   "source": [
    "#### Inference\n",
    "* Age level 2 and 3 are the most active ones on ad clicks.\n",
    "* It's clear that age_level and  user group id distribution are simalar, this concludes that nearly every age level has two distinctive user geoup ids."
   ]
  },
  {
   "cell_type": "code",
   "execution_count": 26,
   "metadata": {},
   "outputs": [
    {
     "data": {
      "text/plain": [
       "Text(0.5, 1.0, ' User depth distribution of products ad clicked')"
      ]
     },
     "execution_count": 26,
     "metadata": {},
     "output_type": "execute_result"
    },
    {
     "data": {
      "image/png": "[encoded data removed]",
      "text/plain": [
       "<Figure size 1080x432 with 1 Axes>"
      ]
     },
     "metadata": {
      "needs_background": "light"
     },
     "output_type": "display_data"
    }
   ],
   "source": [
    "# User depth distribution\n",
    "plt.figure(figsize=(15,6))\n",
    "sns.countplot(x='user_depth',data=train[train['is_click']==1],hue='product',palette='rainbow')\n",
    "plt.title(' User depth distribution of products ad clicked')"
   ]
  },
  {
   "cell_type": "markdown",
   "metadata": {},
   "source": [
    "#### Inference\n",
    "* We see that High interaction level ones are the ones who are clicking the ads most."
   ]
  },
  {
   "cell_type": "code",
   "execution_count": 27,
   "metadata": {},
   "outputs": [
    {
     "data": {
      "text/plain": [
       "Text(0.5, 1.0, ' City development index distribution of products ad clicked')"
      ]
     },
     "execution_count": 27,
     "metadata": {},
     "output_type": "execute_result"
    },
    {
     "data": {
      "image/png": "[encoded data removed]",
      "text/plain": [
       "<Figure size 1080x432 with 1 Axes>"
      ]
     },
     "metadata": {
      "needs_background": "light"
     },
     "output_type": "display_data"
    }
   ],
   "source": [
    "# City Development index distribution\n",
    "plt.figure(figsize=(15,6))\n",
    "sns.countplot(x='city_development_index',data=train[train['is_click']==1],hue='product',palette='rainbow')\n",
    "plt.title(' City development index distribution of products ad clicked')"
   ]
  },
  {
   "cell_type": "markdown",
   "metadata": {},
   "source": [
    "#### Inference\n",
    "* We see that Every city has the same distribution of product ads clicked. Index 2 is the most active one."
   ]
  },
  {
   "cell_type": "markdown",
   "metadata": {},
   "source": [
    "## Data Preprocessing of Training Data"
   ]
  },
  {
   "cell_type": "code",
   "execution_count": 9,
   "metadata": {},
   "outputs": [
    {
     "data": {
      "text/html": [
       "<div>\n",
       "<style scoped>\n",
       "    .dataframe tbody tr th:only-of-type {\n",
       "        vertical-align: middle;\n",
       "    }\n",
       "\n",
       "    .dataframe tbody tr th {\n",
       "        vertical-align: top;\n",
       "    }\n",
       "\n",
       "    .dataframe thead th {\n",
       "        text-align: right;\n",
       "    }\n",
       "</style>\n",
       "<table border=\"1\" class=\"dataframe\">\n",
       "  <thead>\n",
       "    <tr style=\"text-align: right;\">\n",
       "      <th></th>\n",
       "      <th>session_id</th>\n",
       "      <th>user_id</th>\n",
       "      <th>product</th>\n",
       "      <th>campaign_id</th>\n",
       "      <th>webpage_id</th>\n",
       "      <th>product_category_1</th>\n",
       "      <th>product_category_2</th>\n",
       "      <th>user_group_id</th>\n",
       "      <th>gender</th>\n",
       "      <th>age_level</th>\n",
       "      <th>user_depth</th>\n",
       "      <th>city_development_index</th>\n",
       "      <th>var_1</th>\n",
       "      <th>is_click</th>\n",
       "      <th>Hour</th>\n",
       "      <th>Minute</th>\n",
       "      <th>DayofWeek</th>\n",
       "    </tr>\n",
       "  </thead>\n",
       "  <tbody>\n",
       "    <tr>\n",
       "      <th>0</th>\n",
       "      <td>140690</td>\n",
       "      <td>858557</td>\n",
       "      <td>C</td>\n",
       "      <td>359520</td>\n",
       "      <td>13787</td>\n",
       "      <td>4</td>\n",
       "      <td>NaN</td>\n",
       "      <td>10.0</td>\n",
       "      <td>Female</td>\n",
       "      <td>4.0</td>\n",
       "      <td>3.0</td>\n",
       "      <td>3.0</td>\n",
       "      <td>0</td>\n",
       "      <td>0</td>\n",
       "      <td>0</td>\n",
       "      <td>0</td>\n",
       "      <td>6</td>\n",
       "    </tr>\n",
       "    <tr>\n",
       "      <th>1</th>\n",
       "      <td>333291</td>\n",
       "      <td>243253</td>\n",
       "      <td>C</td>\n",
       "      <td>105960</td>\n",
       "      <td>11085</td>\n",
       "      <td>5</td>\n",
       "      <td>NaN</td>\n",
       "      <td>8.0</td>\n",
       "      <td>Female</td>\n",
       "      <td>2.0</td>\n",
       "      <td>2.0</td>\n",
       "      <td>NaN</td>\n",
       "      <td>0</td>\n",
       "      <td>0</td>\n",
       "      <td>0</td>\n",
       "      <td>0</td>\n",
       "      <td>6</td>\n",
       "    </tr>\n",
       "    <tr>\n",
       "      <th>2</th>\n",
       "      <td>129781</td>\n",
       "      <td>243253</td>\n",
       "      <td>C</td>\n",
       "      <td>359520</td>\n",
       "      <td>13787</td>\n",
       "      <td>4</td>\n",
       "      <td>NaN</td>\n",
       "      <td>8.0</td>\n",
       "      <td>Female</td>\n",
       "      <td>2.0</td>\n",
       "      <td>2.0</td>\n",
       "      <td>NaN</td>\n",
       "      <td>0</td>\n",
       "      <td>0</td>\n",
       "      <td>0</td>\n",
       "      <td>0</td>\n",
       "      <td>6</td>\n",
       "    </tr>\n",
       "    <tr>\n",
       "      <th>3</th>\n",
       "      <td>464848</td>\n",
       "      <td>1097446</td>\n",
       "      <td>I</td>\n",
       "      <td>359520</td>\n",
       "      <td>13787</td>\n",
       "      <td>3</td>\n",
       "      <td>NaN</td>\n",
       "      <td>3.0</td>\n",
       "      <td>Male</td>\n",
       "      <td>3.0</td>\n",
       "      <td>3.0</td>\n",
       "      <td>2.0</td>\n",
       "      <td>1</td>\n",
       "      <td>0</td>\n",
       "      <td>0</td>\n",
       "      <td>0</td>\n",
       "      <td>6</td>\n",
       "    </tr>\n",
       "    <tr>\n",
       "      <th>4</th>\n",
       "      <td>90569</td>\n",
       "      <td>663656</td>\n",
       "      <td>C</td>\n",
       "      <td>405490</td>\n",
       "      <td>60305</td>\n",
       "      <td>3</td>\n",
       "      <td>NaN</td>\n",
       "      <td>2.0</td>\n",
       "      <td>Male</td>\n",
       "      <td>2.0</td>\n",
       "      <td>3.0</td>\n",
       "      <td>2.0</td>\n",
       "      <td>1</td>\n",
       "      <td>0</td>\n",
       "      <td>0</td>\n",
       "      <td>1</td>\n",
       "      <td>6</td>\n",
       "    </tr>\n",
       "  </tbody>\n",
       "</table>\n",
       "</div>"
      ],
      "text/plain": [
       "   session_id  user_id product  campaign_id  webpage_id  product_category_1  \\\n",
       "0      140690   858557       C       359520       13787                   4   \n",
       "1      333291   243253       C       105960       11085                   5   \n",
       "2      129781   243253       C       359520       13787                   4   \n",
       "3      464848  1097446       I       359520       13787                   3   \n",
       "4       90569   663656       C       405490       60305                   3   \n",
       "\n",
       "   product_category_2  user_group_id  gender  age_level  user_depth  \\\n",
       "0                 NaN           10.0  Female        4.0         3.0   \n",
       "1                 NaN            8.0  Female        2.0         2.0   \n",
       "2                 NaN            8.0  Female        2.0         2.0   \n",
       "3                 NaN            3.0    Male        3.0         3.0   \n",
       "4                 NaN            2.0    Male        2.0         3.0   \n",
       "\n",
       "   city_development_index  var_1  is_click  Hour  Minute  DayofWeek  \n",
       "0                     3.0      0         0     0       0          6  \n",
       "1                     NaN      0         0     0       0          6  \n",
       "2                     NaN      0         0     0       0          6  \n",
       "3                     2.0      1         0     0       0          6  \n",
       "4                     2.0      1         0     0       1          6  "
      ]
     },
     "execution_count": 9,
     "metadata": {},
     "output_type": "execute_result"
    }
   ],
   "source": [
    "#Data entering preprocessing phase\n",
    "train.head()"
   ]
  },
  {
   "cell_type": "code",
   "execution_count": 11,
   "metadata": {},
   "outputs": [],
   "source": [
    "# Filling the missing values \n",
    "#Gender Males are extremely more\n",
    "#User depth 3.0 is extremely more\n",
    "\n",
    "train['gender'].fillna(train['gender'].mode().iloc[0], inplace =True)\n",
    "#train['gender'].fillna('Third', inplace =True)\n",
    "#train['gender'].fillna(np.random.choice(['Male','Female']), inplace =True)\n",
    "\n",
    "train['user_depth'].fillna(train['user_depth'].mode().iloc[0], inplace =True)\n",
    "#train['user_depth'].fillna(train['user_depth'].mean(), inplace =True)\n",
    "#train['user_depth'].fillna(np.random.choice([1.,2.,3.]), inplace =True)\n",
    "\n",
    "#Age level and User group Id, 2 and 3 are most frequent so we fill them randomly\n",
    "train['age_level'].fillna(np.random.choice([2.,3.]), inplace =True)\n",
    "#train['age_level'].fillna(train['age_level'].mean(), inplace =True)\n",
    "#train['age_level'].fillna(np.random.choice([0.,1.,2.,3.,4.,5.,6.]), inplace =True)\n",
    "\n",
    "train['user_group_id'].fillna(np.random.choice([2.,3.]), inplace =True)\n",
    "#train['user_group_id'].fillna(train['user_group_id'].mean(), inplace =True)\n",
    "#train['user_group_id'].fillna(np.random.choice([0.,1.,2.,3.,4.,5.,6.,7.,8.,9.,10.,11.,12.]), inplace =True)\n",
    "\n",
    "#city devel index has 2, 3 and 4 more or less. so we fill it randomly\n",
    "#train['city_development_index'].fillna(np.random.choice(2.0,5.0), inplace =True)\n",
    "#train['city_development_index'].fillna(train['city_development_index'].mode(), inplace =True)\n",
    "train['city_development_index'].fillna(np.random.choice([1.,2.,3.,4.]), inplace =True)\n",
    "\n",
    "#For product category 2 we fill with new value as it so much\n",
    "#train['product_category_2'].fillna(train['product_category_2'].mean(), inplace =True)\n",
    "train['product_category_2'].fillna(np.random.choice([270915., 146115., 254132., 372532., 450184.,  18595.,255689., 408790., 202351., 408831.,  32026., 235358., 143597.,234846., 301147.,  99226., 419804., 269093., 270147., 181650.,66101., 419304., 300711., 447834.,  82527., 327439., 381435.,168114., 247789]), inplace =True)"
   ]
  },
  {
   "cell_type": "code",
   "execution_count": 12,
   "metadata": {},
   "outputs": [],
   "source": [
    "#Separate the feature columns from the labels\n",
    "\n",
    "#Feature Columns\n",
    "X= train.drop('is_click',axis=1)\n",
    "#Labels\n",
    "y= train['is_click']"
   ]
  },
  {
   "cell_type": "code",
   "execution_count": 13,
   "metadata": {},
   "outputs": [],
   "source": [
    "#If data has categorical columns, then you need to give them dummy variables\n",
    "from sklearn.compose import ColumnTransformer\n",
    "from sklearn.preprocessing import OneHotEncoder\n",
    "\n",
    "#Encoding categorical columns\n",
    "ct = ColumnTransformer([('oh_enc',OneHotEncoder(sparse=False),[2,8])], remainder = 'passthrough')\n",
    "X = ct.fit_transform(X)\n",
    "\n",
    "#Deleting the repeated dummy variable columns\n",
    "X = np.delete(X, [0,10], axis = 1)"
   ]
  },
  {
   "cell_type": "code",
   "execution_count": 14,
   "metadata": {},
   "outputs": [
    {
     "data": {
      "text/plain": [
       "array([0.00000e+00, 1.00000e+00, 0.00000e+00, 0.00000e+00, 0.00000e+00,\n",
       "       0.00000e+00, 0.00000e+00, 0.00000e+00, 0.00000e+00, 0.00000e+00,\n",
       "       1.40690e+05, 8.58557e+05, 3.59520e+05, 1.37870e+04, 4.00000e+00,\n",
       "       6.61010e+04, 1.00000e+01, 4.00000e+00, 3.00000e+00, 3.00000e+00,\n",
       "       0.00000e+00, 0.00000e+00, 0.00000e+00, 6.00000e+00])"
      ]
     },
     "execution_count": 14,
     "metadata": {},
     "output_type": "execute_result"
    }
   ],
   "source": [
    "X[0]"
   ]
  },
  {
   "cell_type": "markdown",
   "metadata": {},
   "source": [
    "### Similarily Preparing the Test Dataset"
   ]
  },
  {
   "cell_type": "code",
   "execution_count": 15,
   "metadata": {},
   "outputs": [
    {
     "data": {
      "text/html": [
       "<div>\n",
       "<style scoped>\n",
       "    .dataframe tbody tr th:only-of-type {\n",
       "        vertical-align: middle;\n",
       "    }\n",
       "\n",
       "    .dataframe tbody tr th {\n",
       "        vertical-align: top;\n",
       "    }\n",
       "\n",
       "    .dataframe thead th {\n",
       "        text-align: right;\n",
       "    }\n",
       "</style>\n",
       "<table border=\"1\" class=\"dataframe\">\n",
       "  <thead>\n",
       "    <tr style=\"text-align: right;\">\n",
       "      <th></th>\n",
       "      <th>session_id</th>\n",
       "      <th>DateTime</th>\n",
       "      <th>user_id</th>\n",
       "      <th>product</th>\n",
       "      <th>campaign_id</th>\n",
       "      <th>webpage_id</th>\n",
       "      <th>product_category_1</th>\n",
       "      <th>product_category_2</th>\n",
       "      <th>user_group_id</th>\n",
       "      <th>gender</th>\n",
       "      <th>age_level</th>\n",
       "      <th>user_depth</th>\n",
       "      <th>city_development_index</th>\n",
       "      <th>var_1</th>\n",
       "    </tr>\n",
       "  </thead>\n",
       "  <tbody>\n",
       "    <tr>\n",
       "      <th>0</th>\n",
       "      <td>411705</td>\n",
       "      <td>2017-07-08 00:00</td>\n",
       "      <td>732573</td>\n",
       "      <td>J</td>\n",
       "      <td>404347</td>\n",
       "      <td>53587</td>\n",
       "      <td>1</td>\n",
       "      <td>NaN</td>\n",
       "      <td>5.0</td>\n",
       "      <td>Male</td>\n",
       "      <td>5.0</td>\n",
       "      <td>3.0</td>\n",
       "      <td>NaN</td>\n",
       "      <td>0</td>\n",
       "    </tr>\n",
       "    <tr>\n",
       "      <th>1</th>\n",
       "      <td>208263</td>\n",
       "      <td>2017-07-08 00:00</td>\n",
       "      <td>172910</td>\n",
       "      <td>I</td>\n",
       "      <td>118601</td>\n",
       "      <td>28529</td>\n",
       "      <td>3</td>\n",
       "      <td>82527.0</td>\n",
       "      <td>NaN</td>\n",
       "      <td>NaN</td>\n",
       "      <td>NaN</td>\n",
       "      <td>NaN</td>\n",
       "      <td>NaN</td>\n",
       "      <td>1</td>\n",
       "    </tr>\n",
       "    <tr>\n",
       "      <th>2</th>\n",
       "      <td>239450</td>\n",
       "      <td>2017-07-08 00:00</td>\n",
       "      <td>172910</td>\n",
       "      <td>I</td>\n",
       "      <td>118601</td>\n",
       "      <td>28529</td>\n",
       "      <td>4</td>\n",
       "      <td>82527.0</td>\n",
       "      <td>NaN</td>\n",
       "      <td>NaN</td>\n",
       "      <td>NaN</td>\n",
       "      <td>NaN</td>\n",
       "      <td>NaN</td>\n",
       "      <td>1</td>\n",
       "    </tr>\n",
       "    <tr>\n",
       "      <th>3</th>\n",
       "      <td>547761</td>\n",
       "      <td>2017-07-08 00:00</td>\n",
       "      <td>557318</td>\n",
       "      <td>G</td>\n",
       "      <td>118601</td>\n",
       "      <td>28529</td>\n",
       "      <td>5</td>\n",
       "      <td>82527.0</td>\n",
       "      <td>1.0</td>\n",
       "      <td>Male</td>\n",
       "      <td>1.0</td>\n",
       "      <td>3.0</td>\n",
       "      <td>1.0</td>\n",
       "      <td>0</td>\n",
       "    </tr>\n",
       "    <tr>\n",
       "      <th>4</th>\n",
       "      <td>574275</td>\n",
       "      <td>2017-07-08 00:00</td>\n",
       "      <td>923896</td>\n",
       "      <td>H</td>\n",
       "      <td>118601</td>\n",
       "      <td>28529</td>\n",
       "      <td>5</td>\n",
       "      <td>82527.0</td>\n",
       "      <td>9.0</td>\n",
       "      <td>Female</td>\n",
       "      <td>3.0</td>\n",
       "      <td>1.0</td>\n",
       "      <td>NaN</td>\n",
       "      <td>1</td>\n",
       "    </tr>\n",
       "  </tbody>\n",
       "</table>\n",
       "</div>"
      ],
      "text/plain": [
       "   session_id          DateTime  user_id product  campaign_id  webpage_id  \\\n",
       "0      411705  2017-07-08 00:00   732573       J       404347       53587   \n",
       "1      208263  2017-07-08 00:00   172910       I       118601       28529   \n",
       "2      239450  2017-07-08 00:00   172910       I       118601       28529   \n",
       "3      547761  2017-07-08 00:00   557318       G       118601       28529   \n",
       "4      574275  2017-07-08 00:00   923896       H       118601       28529   \n",
       "\n",
       "   product_category_1  product_category_2  user_group_id  gender  age_level  \\\n",
       "0                   1                 NaN            5.0    Male        5.0   \n",
       "1                   3             82527.0            NaN     NaN        NaN   \n",
       "2                   4             82527.0            NaN     NaN        NaN   \n",
       "3                   5             82527.0            1.0    Male        1.0   \n",
       "4                   5             82527.0            9.0  Female        3.0   \n",
       "\n",
       "   user_depth  city_development_index  var_1  \n",
       "0         3.0                     NaN      0  \n",
       "1         NaN                     NaN      1  \n",
       "2         NaN                     NaN      1  \n",
       "3         3.0                     1.0      0  \n",
       "4         1.0                     NaN      1  "
      ]
     },
     "execution_count": 15,
     "metadata": {},
     "output_type": "execute_result"
    }
   ],
   "source": [
    "#Reading the test csv data\n",
    "test= pd.read_csv('test.csv')\n",
    "test.head()"
   ]
  },
  {
   "cell_type": "code",
   "execution_count": 16,
   "metadata": {},
   "outputs": [],
   "source": [
    "test['DateTime']=pd.to_datetime(test['DateTime'])\n",
    "test['Hour']=test['DateTime'].apply(lambda time : time.hour)\n",
    "test['Minute']=test['DateTime'].apply(lambda time : time.minute)\n",
    "test['DayofWeek'] = test['DateTime'].apply(lambda time : time.dayofweek)\n",
    "test.drop(['DateTime'],axis=1,inplace=True)"
   ]
  },
  {
   "cell_type": "code",
   "execution_count": 17,
   "metadata": {},
   "outputs": [],
   "source": [
    "test['gender'].fillna(test['gender'].mode().iloc[0], inplace =True)\n",
    "#test['gender'].fillna('Third', inplace =True)\n",
    "#test['gender'].fillna(np.random.choice(['Male','Female']), inplace =True)\n",
    "\n",
    "test['user_depth'].fillna(test['user_depth'].mode().iloc[0], inplace =True)\n",
    "#test['user_depth'].fillna(test['user_depth'].mean(), inplace =True)\n",
    "#test['user_depth'].fillna(np.random.choice([1.,2.,3.]), inplace =True)\n",
    "\n",
    "test['age_level'].fillna(np.random.choice([2.0,3.0]), inplace =True)\n",
    "#test['age_level'].fillna(test['age_level'].mean(), inplace =True)\n",
    "#test['age_level'].fillna(np.random.choice([0.,1.,2.,3.,4.,5.,6.]), inplace =True)\n",
    "\n",
    "test['user_group_id'].fillna(np.random.choice([2.0,3.0]), inplace =True)\n",
    "#test['user_group_id'].fillna(test['user_group_id'].mean(), inplace =True)\n",
    "#test['user_group_id'].fillna(np.random.choice([0.,1.,2.,3.,4.,5.,6.,7.,8.,9.,10.,11.,12.]), inplace =True)\n",
    "\n",
    "#test['city_development_index'].fillna(np.random.choice(2.0,3.0,4.0), inplace =True)\n",
    "#test['city_development_index'].fillna(test['city_development_index'].mean(), inplace =True)\n",
    "test['city_development_index'].fillna(np.random.choice([1.,2.,3.,4.]), inplace =True)\n",
    "\n",
    "#test['product_category_2'].fillna(test['product_category_2'].mean(), inplace =True)\n",
    "test['product_category_2'].fillna(np.random.choice([82527., 146115., 270915., 254132., 419804., 269093.,168114., 408790., 235358.,  18595., 234846., 447834.,  32026.,143597., 255689., 450184., 344959., 327439., 269340.]), inplace =True)\n",
    "\n",
    "X_test = ct.transform(test)\n",
    "X_test = np.delete(X_test, [0,10], axis = 1)"
   ]
  },
  {
   "cell_type": "code",
   "execution_count": 18,
   "metadata": {},
   "outputs": [],
   "source": [
    "# Feature Scaling\n",
    "from sklearn.preprocessing import StandardScaler\n",
    "sc = StandardScaler()\n",
    "X_train = sc.fit_transform(X.astype(float))\n",
    "X_test = sc.transform(X_test.astype(float))"
   ]
  },
  {
   "cell_type": "markdown",
   "metadata": {},
   "source": [
    "### Now let's build the Neural Network"
   ]
  },
  {
   "cell_type": "code",
   "execution_count": 19,
   "metadata": {},
   "outputs": [
    {
     "name": "stderr",
     "output_type": "stream",
     "text": [
      "Using TensorFlow backend.\n"
     ]
    },
    {
     "name": "stdout",
     "output_type": "stream",
     "text": [
      "Epoch 1/20\n",
      "463291/463291 [==============================] - 12s 25us/step - loss: 0.2533 - acc: 0.9323\n",
      "Epoch 2/20\n",
      "463291/463291 [==============================] - 10s 22us/step - loss: 0.2460 - acc: 0.9324\n",
      "Epoch 3/20\n",
      "463291/463291 [==============================] - 10s 21us/step - loss: 0.2457 - acc: 0.9324\n",
      "Epoch 4/20\n",
      "463291/463291 [==============================] - 10s 21us/step - loss: 0.2455 - acc: 0.9324\n",
      "Epoch 5/20\n",
      "463291/463291 [==============================] - 10s 22us/step - loss: 0.2454 - acc: 0.9324\n",
      "Epoch 6/20\n",
      "463291/463291 [==============================] - 10s 21us/step - loss: 0.2452 - acc: 0.9324\n",
      "Epoch 7/20\n",
      "463291/463291 [==============================] - 9s 20us/step - loss: 0.2450 - acc: 0.9324\n",
      "Epoch 8/20\n",
      "463291/463291 [==============================] - 9s 19us/step - loss: 0.2448 - acc: 0.9324\n",
      "Epoch 9/20\n",
      "463291/463291 [==============================] - 9s 20us/step - loss: 0.2446 - acc: 0.9324\n",
      "Epoch 10/20\n",
      "463291/463291 [==============================] - 9s 20us/step - loss: 0.2446 - acc: 0.9324\n",
      "Epoch 11/20\n",
      "463291/463291 [==============================] - 10s 21us/step - loss: 0.2444 - acc: 0.9324\n",
      "Epoch 12/20\n",
      "463291/463291 [==============================] - 12s 26us/step - loss: 0.2444 - acc: 0.9324\n",
      "Epoch 13/20\n",
      "463291/463291 [==============================] - 11s 24us/step - loss: 0.2444 - acc: 0.9324\n",
      "Epoch 14/20\n",
      "463291/463291 [==============================] - 10s 22us/step - loss: 0.2443 - acc: 0.9324\n",
      "Epoch 15/20\n",
      "463291/463291 [==============================] - 10s 22us/step - loss: 0.2443 - acc: 0.9324\n",
      "Epoch 16/20\n",
      "463291/463291 [==============================] - 10s 22us/step - loss: 0.2442 - acc: 0.9324\n",
      "Epoch 17/20\n",
      "463291/463291 [==============================] - 10s 22us/step - loss: 0.2443 - acc: 0.9324\n",
      "Epoch 18/20\n",
      "463291/463291 [==============================] - 10s 21us/step - loss: 0.2442 - acc: 0.9324\n",
      "Epoch 19/20\n",
      "463291/463291 [==============================] - 10s 23us/step - loss: 0.2442 - acc: 0.9324\n",
      "Epoch 20/20\n",
      "463291/463291 [==============================] - 11s 23us/step - loss: 0.2442 - acc: 0.9324\n"
     ]
    },
    {
     "data": {
      "text/plain": [
       "<keras.callbacks.History at 0x14da6b898>"
      ]
     },
     "execution_count": 19,
     "metadata": {},
     "output_type": "execute_result"
    }
   ],
   "source": [
    "# Fitting the ANN to the Training set\n",
    "# Importing the Keras libraries and packages\n",
    "import keras\n",
    "from keras.models import Sequential\n",
    "from keras.layers import Dense, Dropout\n",
    "classifier = Sequential()\n",
    "classifier.add(Dense(units = 12, kernel_initializer='uniform', activation='relu', input_dim = 24))\n",
    "#classifier.add(Dropout(0.2))\n",
    "classifier.add(Dense(units = 24, kernel_initializer='uniform', activation='relu'))\n",
    "#classifier.add(Dropout(0.1))\n",
    "classifier.add(Dense(units = 12, kernel_initializer='uniform', activation='relu'))\n",
    "#classifier.add(Dropout(0.2))\n",
    "classifier.add(Dense(units = 24, kernel_initializer='uniform', activation='relu'))\n",
    "#classifier.add(Dropout(0.1))\n",
    "classifier.add(Dense(units = 1, kernel_initializer='uniform', activation='sigmoid'))\n",
    "classifier.compile(optimizer='adam', loss= 'binary_crossentropy', metrics= ['accuracy'])\n",
    "classifier.fit(X_train, y, batch_size = 100, epochs = 20)"
   ]
  },
  {
   "cell_type": "code",
   "execution_count": 20,
   "metadata": {},
   "outputs": [
    {
     "name": "stdout",
     "output_type": "stream",
     "text": [
      "0.0  -->  0.5\n",
      "0.0012658227848101266  -->  0.5\n",
      "0.002531645569620253  -->  0.5\n",
      "0.00379746835443038  -->  0.5\n",
      "0.005063291139240506  -->  0.5\n",
      "0.006329113924050633  -->  0.5\n",
      "0.00759493670886076  -->  0.5\n",
      "0.008860759493670886  -->  0.5\n",
      "0.010126582278481013  -->  0.5\n",
      "0.01139240506329114  -->  0.5\n",
      "0.012658227848101266  -->  0.5\n",
      "0.013924050632911392  -->  0.5\n",
      "0.01518987341772152  -->  0.5\n",
      "0.016455696202531647  -->  0.5\n",
      "0.017721518987341773  -->  0.5000046300583387\n",
      "0.0189873417721519  -->  0.5001738737566707\n",
      "0.020253164556962026  -->  0.5002410096025823\n",
      "0.021518987341772152  -->  0.5002632489486593\n",
      "0.02278481012658228  -->  0.500361466449645\n",
      "0.024050632911392405  -->  0.500535984004763\n",
      "0.02531645569620253  -->  0.5006815431170626\n",
      "0.026582278481012658  -->  0.5012327254719375\n",
      "0.027848101265822784  -->  0.5019636239084608\n",
      "0.02911392405063291  -->  0.5030652283331055\n",
      "0.03037974683544304  -->  0.5046436876102373\n",
      "0.03164556962025317  -->  0.5060160887130941\n",
      "0.03291139240506329  -->  0.5076594441372237\n",
      "0.03417721518987342  -->  0.5094504477120555\n",
      "0.035443037974683546  -->  0.5108837722976707\n",
      "0.03670886075949367  -->  0.5133250866739798\n",
      "0.0379746835443038  -->  0.5153429149684576\n",
      "0.039240506329113925  -->  0.5179476579094245\n",
      "0.04050632911392405  -->  0.5208922511742056\n",
      "0.04177215189873418  -->  0.5236597718988334\n",
      "0.043037974683544304  -->  0.5269857419650681\n",
      "0.04430379746835443  -->  0.5294326377628409\n",
      "0.04556962025316456  -->  0.5323777032179096\n",
      "0.04683544303797468  -->  0.5355536961391738\n",
      "0.04810126582278481  -->  0.5393794931283276\n",
      "0.049367088607594936  -->  0.5418936136979196\n",
      "0.05063291139240506  -->  0.5445695944924535\n",
      "0.05189873417721519  -->  0.5470587153183678\n",
      "0.053164556962025315  -->  0.5499187475449688\n",
      "0.05443037974683544  -->  0.5526772470004437\n",
      "0.05569620253164557  -->  0.5558932932291948\n",
      "0.056962025316455694  -->  0.5590709426771882\n",
      "0.05822784810126582  -->  0.5613960653619119\n",
      "0.05949367088607595  -->  0.5627001642744875\n",
      "0.06075949367088608  -->  0.5637971981587149\n",
      "0.06202531645569621  -->  0.5656045487684587\n",
      "0.06329113924050633  -->  0.5667106579349991\n",
      "0.06455696202531645  -->  0.5670277529799164\n",
      "0.06582278481012659  -->  0.5673735948114311\n",
      "0.0670886075949367  -->  0.5673711552047129\n",
      "0.06835443037974684  -->  0.5679472468995699\n",
      "0.06962025316455696  -->  0.5674043850466639\n",
      "0.07088607594936709  -->  0.5669373848620083\n",
      "0.07215189873417721  -->  0.5663475650316159\n",
      "0.07341772151898734  -->  0.5653186775048996\n",
      "0.07468354430379746  -->  0.5641408336523853\n",
      "0.0759493670886076  -->  0.563370797989306\n",
      "0.07721518987341772  -->  0.5624477032538789\n",
      "0.07848101265822785  -->  0.561295721951707\n",
      "0.07974683544303797  -->  0.5600997550953171\n",
      "0.0810126582278481  -->  0.5594043894120504\n",
      "0.08227848101265824  -->  0.5585741082385132\n",
      "0.08354430379746836  -->  0.5570455786232421\n",
      "0.08481012658227849  -->  0.555644450942542\n",
      "0.08607594936708861  -->  0.5541154829413893\n",
      "0.08734177215189874  -->  0.5521345841317244\n",
      "0.08860759493670886  -->  0.5506606425362979\n",
      "0.089873417721519  -->  0.5488074333865745\n",
      "0.09113924050632911  -->  0.546738947102301\n",
      "0.09240506329113925  -->  0.5447874656995374\n",
      "0.09367088607594937  -->  0.5427012194670144\n",
      "0.0949367088607595  -->  0.5399762989440178\n",
      "0.09620253164556962  -->  0.5360224260749659\n",
      "0.09746835443037975  -->  0.5336240823079106\n",
      "0.09873417721518987  -->  0.5319892807285131\n",
      "0.1  -->  0.5309940643852061\n"
     ]
    }
   ],
   "source": [
    "#Check roc score for training set\n",
    "from sklearn.metrics import roc_auc_score\n",
    "check = classifier.predict(X_train)\n",
    "for i in np.linspace(0,0.1,80):\n",
    "    print(i,\" --> \", roc_auc_score(y,(check>i)))"
   ]
  },
  {
   "cell_type": "code",
   "execution_count": 21,
   "metadata": {},
   "outputs": [],
   "source": [
    "# Predicting the Test set results\n",
    "y_pred_nn = classifier.predict(X_test)"
   ]
  },
  {
   "cell_type": "code",
   "execution_count": 22,
   "metadata": {},
   "outputs": [],
   "source": [
    "# We shall consider the score\n",
    "for i in range(len(y_pred_nn)):\n",
    "    if y_pred_nn[i] > 0.07:\n",
    "        y_pred_nn[i] = 1\n",
    "    else:\n",
    "        y_pred_nn[i] = 0"
   ]
  },
  {
   "cell_type": "code",
   "execution_count": 23,
   "metadata": {},
   "outputs": [],
   "source": [
    "#Generating Submission file.\n",
    "id=test['session_id']\n",
    "submit=pd.DataFrame({'session_id':id, 'is_click':y_pred_nn.ravel()})\n",
    "submit.to_csv('Submission.csv',index=False)"
   ]
  },
  {
   "cell_type": "code",
   "execution_count": null,
   "metadata": {},
   "outputs": [],
   "source": []
  }
 ],
 "metadata": {
  "kernelspec": {
   "display_name": "Python 3",
   "language": "python",
   "name": "python3"
  },
  "language_info": {
   "codemirror_mode": {
    "name": "ipython",
    "version": 3
   },
   "file_extension": ".py",
   "mimetype": "text/x-python",
   "name": "python",
   "nbconvert_exporter": "python",
   "pygments_lexer": "ipython3",
   "version": "3.6.6"
  }
 },
 "nbformat": 4,
 "nbformat_minor": 2
}
